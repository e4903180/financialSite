{
 "cells": [
  {
   "cell_type": "code",
   "execution_count": 1,
   "id": "f70f44ab",
   "metadata": {},
   "outputs": [],
   "source": [
    "import MySQLdb\n",
    "import pandas as pd\n",
    "from tqdm import trange"
   ]
  },
  {
   "cell_type": "code",
   "execution_count": 2,
   "id": "3621bc0a",
   "metadata": {},
   "outputs": [],
   "source": [
    "df = pd.read_csv(\"/home/cosbi/financialSite/DB/line_memo.csv\")\n",
    "df = df.fillna(\"NULL\")\n",
    "df.drop_duplicates(inplace = True)\n",
    "df.reset_index(drop = True, inplace = True) "
   ]
  },
  {
   "cell_type": "code",
   "execution_count": 3,
   "id": "e6fd4e5d",
   "metadata": {},
   "outputs": [
    {
     "data": {
      "text/html": [
       "<div>\n",
       "<style scoped>\n",
       "    .dataframe tbody tr th:only-of-type {\n",
       "        vertical-align: middle;\n",
       "    }\n",
       "\n",
       "    .dataframe tbody tr th {\n",
       "        vertical-align: top;\n",
       "    }\n",
       "\n",
       "    .dataframe thead th {\n",
       "        text-align: right;\n",
       "    }\n",
       "</style>\n",
       "<table border=\"1\" class=\"dataframe\">\n",
       "  <thead>\n",
       "    <tr style=\"text-align: right;\">\n",
       "      <th></th>\n",
       "      <th>stockNum</th>\n",
       "      <th>stockName</th>\n",
       "      <th>date</th>\n",
       "      <th>filePath</th>\n",
       "      <th>inputTime</th>\n",
       "      <th>username</th>\n",
       "    </tr>\n",
       "  </thead>\n",
       "  <tbody>\n",
       "    <tr>\n",
       "      <th>0</th>\n",
       "      <td>9911.0</td>\n",
       "      <td>櫻花</td>\n",
       "      <td>2018-05-30</td>\n",
       "      <td>9911_櫻花_2018-05-30.txt</td>\n",
       "      <td>2:22:45 PM</td>\n",
       "      <td>popowing</td>\n",
       "    </tr>\n",
       "    <tr>\n",
       "      <th>1</th>\n",
       "      <td>9914.0</td>\n",
       "      <td>美利達</td>\n",
       "      <td>2018-05-30</td>\n",
       "      <td>9914_美利達_2018-05-30.txt</td>\n",
       "      <td>2:23:12 PM</td>\n",
       "      <td>popowing</td>\n",
       "    </tr>\n",
       "    <tr>\n",
       "      <th>2</th>\n",
       "      <td>3346.0</td>\n",
       "      <td>麗清</td>\n",
       "      <td>2018-05-30</td>\n",
       "      <td>3346_麗清_2018-05-30.txt</td>\n",
       "      <td>2:23:26 PM</td>\n",
       "      <td>popowing</td>\n",
       "    </tr>\n",
       "    <tr>\n",
       "      <th>3</th>\n",
       "      <td>2603.0</td>\n",
       "      <td>長榮</td>\n",
       "      <td>2018-05-30</td>\n",
       "      <td>2603_長榮_2018-05-30.txt</td>\n",
       "      <td>2:24:05 PM</td>\n",
       "      <td>popowing</td>\n",
       "    </tr>\n",
       "    <tr>\n",
       "      <th>4</th>\n",
       "      <td>8462.0</td>\n",
       "      <td>柏文</td>\n",
       "      <td>2018-05-30</td>\n",
       "      <td>8462_柏文_2018-05-30.txt</td>\n",
       "      <td>2:24:14 PM</td>\n",
       "      <td>popowing</td>\n",
       "    </tr>\n",
       "    <tr>\n",
       "      <th>...</th>\n",
       "      <td>...</td>\n",
       "      <td>...</td>\n",
       "      <td>...</td>\n",
       "      <td>...</td>\n",
       "      <td>...</td>\n",
       "      <td>...</td>\n",
       "    </tr>\n",
       "    <tr>\n",
       "      <th>438</th>\n",
       "      <td>1589.0</td>\n",
       "      <td>永冠-KY</td>\n",
       "      <td>2019-01-27</td>\n",
       "      <td>1589_永冠-KY_2019-01-27.txt</td>\n",
       "      <td>下午5:34:17</td>\n",
       "      <td>c21221203</td>\n",
       "    </tr>\n",
       "    <tr>\n",
       "      <th>439</th>\n",
       "      <td>5530.0</td>\n",
       "      <td>龍巖</td>\n",
       "      <td>2019-01-29</td>\n",
       "      <td>5530_龍巖_2019-01-29.txt</td>\n",
       "      <td>上午10:40:02</td>\n",
       "      <td>c21221203</td>\n",
       "    </tr>\n",
       "    <tr>\n",
       "      <th>440</th>\n",
       "      <td>3708.0</td>\n",
       "      <td>上緯</td>\n",
       "      <td>2019-01-30</td>\n",
       "      <td>3708_上緯_2019-01-30.txt</td>\n",
       "      <td>下午1:45:00</td>\n",
       "      <td>c21221203</td>\n",
       "    </tr>\n",
       "    <tr>\n",
       "      <th>441</th>\n",
       "      <td>2454.0</td>\n",
       "      <td>聯發科</td>\n",
       "      <td>2019-02-01</td>\n",
       "      <td>2454_聯發科_2019-02-01.txt</td>\n",
       "      <td>下午12:46:39</td>\n",
       "      <td>c21221203</td>\n",
       "    </tr>\n",
       "    <tr>\n",
       "      <th>442</th>\n",
       "      <td>8028.0</td>\n",
       "      <td>昇陽國際半導體</td>\n",
       "      <td>2019-02-20</td>\n",
       "      <td>8028_昇陽國際半導體_2019-02-20.txt</td>\n",
       "      <td>下午3:06:03</td>\n",
       "      <td>c21221203</td>\n",
       "    </tr>\n",
       "  </tbody>\n",
       "</table>\n",
       "<p>443 rows × 6 columns</p>\n",
       "</div>"
      ],
      "text/plain": [
       "    stockNum stockName        date                     filePath   inputTime  \\\n",
       "0     9911.0        櫻花  2018-05-30       9911_櫻花_2018-05-30.txt  2:22:45 PM   \n",
       "1     9914.0       美利達  2018-05-30      9914_美利達_2018-05-30.txt  2:23:12 PM   \n",
       "2     3346.0        麗清  2018-05-30       3346_麗清_2018-05-30.txt  2:23:26 PM   \n",
       "3     2603.0        長榮  2018-05-30       2603_長榮_2018-05-30.txt  2:24:05 PM   \n",
       "4     8462.0        柏文  2018-05-30       8462_柏文_2018-05-30.txt  2:24:14 PM   \n",
       "..       ...       ...         ...                          ...         ...   \n",
       "438   1589.0     永冠-KY  2019-01-27    1589_永冠-KY_2019-01-27.txt   下午5:34:17   \n",
       "439   5530.0        龍巖  2019-01-29       5530_龍巖_2019-01-29.txt  上午10:40:02   \n",
       "440   3708.0        上緯  2019-01-30       3708_上緯_2019-01-30.txt   下午1:45:00   \n",
       "441   2454.0       聯發科  2019-02-01      2454_聯發科_2019-02-01.txt  下午12:46:39   \n",
       "442   8028.0   昇陽國際半導體  2019-02-20  8028_昇陽國際半導體_2019-02-20.txt   下午3:06:03   \n",
       "\n",
       "      username  \n",
       "0     popowing  \n",
       "1     popowing  \n",
       "2     popowing  \n",
       "3     popowing  \n",
       "4     popowing  \n",
       "..         ...  \n",
       "438  c21221203  \n",
       "439  c21221203  \n",
       "440  c21221203  \n",
       "441  c21221203  \n",
       "442  c21221203  \n",
       "\n",
       "[443 rows x 6 columns]"
      ]
     },
     "execution_count": 3,
     "metadata": {},
     "output_type": "execute_result"
    }
   ],
   "source": [
    "df"
   ]
  },
  {
   "cell_type": "code",
   "execution_count": 4,
   "id": "21e1e0e3",
   "metadata": {},
   "outputs": [],
   "source": [
    "db = MySQLdb.connect(host = \"localhost\", user = \"debian-sys-maint\",\n",
    "                     passwd = \"CEMj8ptYHraxNxFt\", db = \"financial\", charset = \"utf8\")\n",
    "\n",
    "cursor = db.cursor()"
   ]
  },
  {
   "cell_type": "code",
   "execution_count": 7,
   "id": "4f045414",
   "metadata": {},
   "outputs": [
    {
     "name": "stderr",
     "output_type": "stream",
     "text": [
      "100%|█████████████████████████████████████████| 443/443 [00:51<00:00,  8.62it/s]\n"
     ]
    }
   ],
   "source": [
    "for i in trange(len(df)):\n",
    "    cursor.execute(\"INSERT INTO lineMemo (stockNum, stockName, date, filePath, inputTime, username)\"\n",
    "                   \" VALUES (%s, %s, %s, %s, %s, %s);\", (str(df.iloc[i][\"stockNum\"]).replace(\".0\", \"\"), df.iloc[i][\"stockName\"], df.iloc[i][\"date\"].replace(\"-\", \"_\"), \"/home/cosbi/桌面/financialData/lineMemo_data/\" + df.iloc[i][\"filePath\"], df.iloc[i][\"inputTime\"], df.iloc[i][\"username\"]))\n",
    "    db.commit()\n",
    "\n",
    "db.close()"
   ]
  },
  {
   "cell_type": "code",
   "execution_count": 12,
   "id": "a2cdcc3c",
   "metadata": {},
   "outputs": [
    {
     "ename": "OperationalError",
     "evalue": "(2006, '')",
     "output_type": "error",
     "traceback": [
      "\u001b[0;31m---------------------------------------------------------------------------\u001b[0m",
      "\u001b[0;31mOperationalError\u001b[0m                          Traceback (most recent call last)",
      "Input \u001b[0;32mIn [12]\u001b[0m, in \u001b[0;36m<module>\u001b[0;34m\u001b[0m\n\u001b[0;32m----> 1\u001b[0m \u001b[43mdb\u001b[49m\u001b[38;5;241;43m.\u001b[39;49m\u001b[43mclose\u001b[49m\u001b[43m(\u001b[49m\u001b[43m)\u001b[49m\n",
      "\u001b[0;31mOperationalError\u001b[0m: (2006, '')"
     ]
    }
   ],
   "source": [
    "db.close()"
   ]
  },
  {
   "cell_type": "code",
   "execution_count": null,
   "id": "6cee4f45",
   "metadata": {},
   "outputs": [],
   "source": []
  }
 ],
 "metadata": {
  "kernelspec": {
   "display_name": "Python 3 (ipykernel)",
   "language": "python",
   "name": "python3"
  },
  "language_info": {
   "codemirror_mode": {
    "name": "ipython",
    "version": 3
   },
   "file_extension": ".py",
   "mimetype": "text/x-python",
   "name": "python",
   "nbconvert_exporter": "python",
   "pygments_lexer": "ipython3",
   "version": "3.8.10"
  }
 },
 "nbformat": 4,
 "nbformat_minor": 5
}
