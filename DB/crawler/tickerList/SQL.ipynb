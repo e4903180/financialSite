{
 "cells": [
  {
   "cell_type": "code",
   "execution_count": 1,
   "metadata": {},
   "outputs": [],
   "source": [
    "import MySQLdb\n",
    "import pandas as pd\n",
    "from tqdm import trange\n",
    "\n",
    "db = MySQLdb.connect(host = \"localhost\", user = \"debian-sys-maint\",\n",
    "                    passwd = \"CEMj8ptYHraxNxFt\", db = \"financial\", charset = \"utf8\")\n",
    "cursor = db.cursor()"
   ]
  },
  {
   "cell_type": "code",
   "execution_count": 2,
   "metadata": {},
   "outputs": [
    {
     "data": {
      "text/html": [
       "<div>\n",
       "<style scoped>\n",
       "    .dataframe tbody tr th:only-of-type {\n",
       "        vertical-align: middle;\n",
       "    }\n",
       "\n",
       "    .dataframe tbody tr th {\n",
       "        vertical-align: top;\n",
       "    }\n",
       "\n",
       "    .dataframe thead th {\n",
       "        text-align: right;\n",
       "    }\n",
       "</style>\n",
       "<table border=\"1\" class=\"dataframe\">\n",
       "  <thead>\n",
       "    <tr style=\"text-align: right;\">\n",
       "      <th></th>\n",
       "      <th>stock_name</th>\n",
       "      <th>stock_num</th>\n",
       "      <th>class</th>\n",
       "    </tr>\n",
       "  </thead>\n",
       "  <tbody>\n",
       "    <tr>\n",
       "      <th>0</th>\n",
       "      <td>1101 台泥</td>\n",
       "      <td>1101</td>\n",
       "      <td>水泥</td>\n",
       "    </tr>\n",
       "    <tr>\n",
       "      <th>1</th>\n",
       "      <td>1101B 台泥乙特</td>\n",
       "      <td>1101B</td>\n",
       "      <td>水泥</td>\n",
       "    </tr>\n",
       "    <tr>\n",
       "      <th>2</th>\n",
       "      <td>1102 亞泥</td>\n",
       "      <td>1102</td>\n",
       "      <td>水泥</td>\n",
       "    </tr>\n",
       "    <tr>\n",
       "      <th>3</th>\n",
       "      <td>1103 嘉泥</td>\n",
       "      <td>1103</td>\n",
       "      <td>水泥</td>\n",
       "    </tr>\n",
       "    <tr>\n",
       "      <th>4</th>\n",
       "      <td>1104 環泥</td>\n",
       "      <td>1104</td>\n",
       "      <td>水泥</td>\n",
       "    </tr>\n",
       "    <tr>\n",
       "      <th>...</th>\n",
       "      <td>...</td>\n",
       "      <td>...</td>\n",
       "      <td>...</td>\n",
       "    </tr>\n",
       "    <tr>\n",
       "      <th>25875</th>\n",
       "      <td>6912 益鈞環科*-新</td>\n",
       "      <td>6912</td>\n",
       "      <td>戰略新板</td>\n",
       "    </tr>\n",
       "    <tr>\n",
       "      <th>25876</th>\n",
       "      <td>6913 鴻呈-新</td>\n",
       "      <td>6913</td>\n",
       "      <td>戰略新板</td>\n",
       "    </tr>\n",
       "    <tr>\n",
       "      <th>25877</th>\n",
       "      <td>6922 宸曜-新</td>\n",
       "      <td>6922</td>\n",
       "      <td>戰略新板</td>\n",
       "    </tr>\n",
       "    <tr>\n",
       "      <th>25878</th>\n",
       "      <td>6925 意藍-新</td>\n",
       "      <td>6925</td>\n",
       "      <td>戰略新板</td>\n",
       "    </tr>\n",
       "    <tr>\n",
       "      <th>25879</th>\n",
       "      <td>7610 聯友金屬-新</td>\n",
       "      <td>7610</td>\n",
       "      <td>戰略新板</td>\n",
       "    </tr>\n",
       "  </tbody>\n",
       "</table>\n",
       "<p>25880 rows × 3 columns</p>\n",
       "</div>"
      ],
      "text/plain": [
       "         stock_name stock_num class\n",
       "0           1101 台泥      1101    水泥\n",
       "1        1101B 台泥乙特     1101B    水泥\n",
       "2           1102 亞泥      1102    水泥\n",
       "3           1103 嘉泥      1103    水泥\n",
       "4           1104 環泥      1104    水泥\n",
       "...             ...       ...   ...\n",
       "25875  6912 益鈞環科*-新      6912  戰略新板\n",
       "25876     6913 鴻呈-新      6913  戰略新板\n",
       "25877     6922 宸曜-新      6922  戰略新板\n",
       "25878     6925 意藍-新      6925  戰略新板\n",
       "25879   7610 聯友金屬-新      7610  戰略新板\n",
       "\n",
       "[25880 rows x 3 columns]"
      ]
     },
     "execution_count": 2,
     "metadata": {},
     "output_type": "execute_result"
    }
   ],
   "source": [
    "df = pd.read_csv(\"ticker_list.csv\")\n",
    "df"
   ]
  },
  {
   "cell_type": "code",
   "execution_count": 3,
   "metadata": {},
   "outputs": [
    {
     "name": "stderr",
     "output_type": "stream",
     "text": [
      "100%|██████████| 25880/25880 [48:48<00:00,  8.84it/s]  \n"
     ]
    }
   ],
   "source": [
    "for row in trange(len(df)):\n",
    "    temp = df.iloc[row]\n",
    "\n",
    "    cursor.execute(\"INSERT INTO ticker_list (`stock_num`, `stock_name`, `class`)\"\n",
    "                    \" VALUES (%s, %s, %s);\", (temp[\"stock_num\"], temp[\"stock_name\"], temp[\"class\"]))\n",
    "    db.commit()"
   ]
  }
 ],
 "metadata": {
  "kernelspec": {
   "display_name": "Python 3.8.10 64-bit",
   "language": "python",
   "name": "python3"
  },
  "language_info": {
   "codemirror_mode": {
    "name": "ipython",
    "version": 3
   },
   "file_extension": ".py",
   "mimetype": "text/x-python",
   "name": "python",
   "nbconvert_exporter": "python",
   "pygments_lexer": "ipython3",
   "version": "3.8.10"
  },
  "orig_nbformat": 4,
  "vscode": {
   "interpreter": {
    "hash": "916dbcbb3f70747c44a77c7bcd40155683ae19c65e1c03b4aa3499c5328201f1"
   }
  }
 },
 "nbformat": 4,
 "nbformat_minor": 2
}
