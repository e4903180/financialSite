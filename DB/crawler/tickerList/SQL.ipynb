{
 "cells": [
  {
   "cell_type": "code",
   "execution_count": 1,
   "metadata": {},
   "outputs": [],
   "source": [
    "import MySQLdb\n",
    "import pandas as pd\n",
    "from tqdm import trange\n",
    "\n",
    "db = MySQLdb.connect(host = \"localhost\", user = \"debian-sys-maint\",\n",
    "                    passwd = \"CEMj8ptYHraxNxFt\", db = \"financial\", charset = \"utf8\")\n",
    "cursor = db.cursor()"
   ]
  },
  {
   "cell_type": "code",
   "execution_count": 2,
   "metadata": {},
   "outputs": [
    {
     "data": {
      "text/html": [
       "<div>\n",
       "<style scoped>\n",
       "    .dataframe tbody tr th:only-of-type {\n",
       "        vertical-align: middle;\n",
       "    }\n",
       "\n",
       "    .dataframe tbody tr th {\n",
       "        vertical-align: top;\n",
       "    }\n",
       "\n",
       "    .dataframe thead th {\n",
       "        text-align: right;\n",
       "    }\n",
       "</style>\n",
       "<table border=\"1\" class=\"dataframe\">\n",
       "  <thead>\n",
       "    <tr style=\"text-align: right;\">\n",
       "      <th></th>\n",
       "      <th>stock_name</th>\n",
       "      <th>stock_num</th>\n",
       "      <th>class</th>\n",
       "    </tr>\n",
       "  </thead>\n",
       "  <tbody>\n",
       "    <tr>\n",
       "      <th>0</th>\n",
       "      <td>EMP88 就業88</td>\n",
       "      <td>EMP88</td>\n",
       "      <td>櫃指數類</td>\n",
       "    </tr>\n",
       "    <tr>\n",
       "      <th>1</th>\n",
       "      <td>GTCI 薪酬指數</td>\n",
       "      <td>GTCI</td>\n",
       "      <td>櫃指數類</td>\n",
       "    </tr>\n",
       "    <tr>\n",
       "      <th>2</th>\n",
       "      <td>GTHD 高殖利</td>\n",
       "      <td>GTHD</td>\n",
       "      <td>櫃指數類</td>\n",
       "    </tr>\n",
       "    <tr>\n",
       "      <th>3</th>\n",
       "      <td>GTSM50 富櫃50</td>\n",
       "      <td>GTSM50</td>\n",
       "      <td>櫃指數類</td>\n",
       "    </tr>\n",
       "    <tr>\n",
       "      <th>4</th>\n",
       "      <td>IR0118 富櫃200報酬指</td>\n",
       "      <td>IR0118</td>\n",
       "      <td>櫃指數類</td>\n",
       "    </tr>\n",
       "    <tr>\n",
       "      <th>...</th>\n",
       "      <td>...</td>\n",
       "      <td>...</td>\n",
       "      <td>...</td>\n",
       "    </tr>\n",
       "    <tr>\n",
       "      <th>7909</th>\n",
       "      <td>72006P 威剛富邦25售01</td>\n",
       "      <td>72006P</td>\n",
       "      <td>櫃認售</td>\n",
       "    </tr>\n",
       "    <tr>\n",
       "      <th>7910</th>\n",
       "      <td>72007P 元太群益25售13</td>\n",
       "      <td>72007P</td>\n",
       "      <td>櫃認售</td>\n",
       "    </tr>\n",
       "    <tr>\n",
       "      <th>7911</th>\n",
       "      <td>72008P 鈺創群益25售03</td>\n",
       "      <td>72008P</td>\n",
       "      <td>櫃認售</td>\n",
       "    </tr>\n",
       "    <tr>\n",
       "      <th>7912</th>\n",
       "      <td>72009P 優群群益25售02</td>\n",
       "      <td>72009P</td>\n",
       "      <td>櫃認售</td>\n",
       "    </tr>\n",
       "    <tr>\n",
       "      <th>7913</th>\n",
       "      <td>72010P 元太元大25售21</td>\n",
       "      <td>72010P</td>\n",
       "      <td>櫃認售</td>\n",
       "    </tr>\n",
       "  </tbody>\n",
       "</table>\n",
       "<p>7914 rows × 3 columns</p>\n",
       "</div>"
      ],
      "text/plain": [
       "            stock_name stock_num class\n",
       "0           EMP88 就業88     EMP88  櫃指數類\n",
       "1            GTCI 薪酬指數      GTCI  櫃指數類\n",
       "2             GTHD 高殖利      GTHD  櫃指數類\n",
       "3          GTSM50 富櫃50    GTSM50  櫃指數類\n",
       "4      IR0118 富櫃200報酬指    IR0118  櫃指數類\n",
       "...                ...       ...   ...\n",
       "7909  72006P 威剛富邦25售01    72006P   櫃認售\n",
       "7910  72007P 元太群益25售13    72007P   櫃認售\n",
       "7911  72008P 鈺創群益25售03    72008P   櫃認售\n",
       "7912  72009P 優群群益25售02    72009P   櫃認售\n",
       "7913  72010P 元太元大25售21    72010P   櫃認售\n",
       "\n",
       "[7914 rows x 3 columns]"
      ]
     },
     "execution_count": 2,
     "metadata": {},
     "output_type": "execute_result"
    }
   ],
   "source": [
    "df = pd.read_csv(\"ticker_list.csv\")\n",
    "df"
   ]
  },
  {
   "cell_type": "code",
   "execution_count": 3,
   "metadata": {},
   "outputs": [
    {
     "name": "stderr",
     "output_type": "stream",
     "text": [
      "100%|██████████| 7914/7914 [15:19<00:00,  8.60it/s]\n"
     ]
    }
   ],
   "source": [
    "for row in trange(len(df)):\n",
    "    temp = df.iloc[row]\n",
    "\n",
    "    cursor.execute(\"INSERT INTO ticker_list (`stock_num`, `stock_name`, `class`)\"\n",
    "                    \" VALUES (%s, %s, %s);\", (temp[\"stock_num\"], temp[\"stock_name\"], temp[\"class\"]))\n",
    "    db.commit()"
   ]
  }
 ],
 "metadata": {
  "kernelspec": {
   "display_name": "Python 3.8.10 64-bit",
   "language": "python",
   "name": "python3"
  },
  "language_info": {
   "codemirror_mode": {
    "name": "ipython",
    "version": 3
   },
   "file_extension": ".py",
   "mimetype": "text/x-python",
   "name": "python",
   "nbconvert_exporter": "python",
   "pygments_lexer": "ipython3",
   "version": "3.8.10"
  },
  "orig_nbformat": 4,
  "vscode": {
   "interpreter": {
    "hash": "916dbcbb3f70747c44a77c7bcd40155683ae19c65e1c03b4aa3499c5328201f1"
   }
  }
 },
 "nbformat": 4,
 "nbformat_minor": 2
}
