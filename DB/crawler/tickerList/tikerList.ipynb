{
 "cells": [
  {
   "cell_type": "code",
   "execution_count": 1,
   "metadata": {},
   "outputs": [
    {
     "name": "stderr",
     "output_type": "stream",
     "text": [
      "\n",
      "\n",
      "====== WebDriver manager ======\n",
      "Current google-chrome version is 106.0.5249\n",
      "Get LATEST chromedriver version for 106.0.5249 google-chrome\n",
      "Driver [/home/cosbi/.wdm/drivers/chromedriver/linux64/106.0.5249.61/chromedriver] found in cache\n"
     ]
    }
   ],
   "source": [
    "import pandas as pd\n",
    "import time\n",
    "import requests\n",
    "import json\n",
    "from tqdm import tqdm\n",
    "\n",
    "from bs4 import BeautifulSoup\n",
    "from selenium import webdriver\n",
    "from selenium.webdriver.chrome.service import Service\n",
    "from webdriver_manager.chrome import ChromeDriverManager\n",
    "from selenium.webdriver.support.select import Select\n",
    "from selenium.webdriver.common.by import By\n",
    "\n",
    "options = webdriver.ChromeOptions()\n",
    "options.add_argument(\"--disable-notifications\")\n",
    "options.add_argument(\"--start-maximized\")\n",
    "options.add_argument(\"headless\")\n",
    "s = Service(ChromeDriverManager().install())\n",
    "chrome = webdriver.Chrome(options = options,service = s)"
   ]
  },
  {
   "cell_type": "code",
   "execution_count": 2,
   "metadata": {},
   "outputs": [],
   "source": [
    "chrome.get(\"https://tw.stock.yahoo.com/h/kimosel.php?tse=1&cat=%A5b%BE%C9%C5%E9&form=menu&form_id=stock_id&form_name=stock_name&domain=0\")"
   ]
  },
  {
   "cell_type": "code",
   "execution_count": 3,
   "metadata": {},
   "outputs": [],
   "source": [
    "ticker = {}\n",
    "td_text = chrome.find_elements(by = By.TAG_NAME, value = \"td\")[3].text\n",
    "tiker_row = td_text.split(\"\\n\")\n",
    "tiker_row[0] = tiker_row[0].replace(\"上市 \", \"\")\n",
    "tiker_row[len(tiker_row) - 1] = tiker_row[len(tiker_row) - 1][:-18]"
   ]
  },
  {
   "cell_type": "code",
   "execution_count": 4,
   "metadata": {},
   "outputs": [],
   "source": [
    "for row in tiker_row:\n",
    "    cols = row.split(\" \")\n",
    "\n",
    "    for col in cols: ticker[col] = []"
   ]
  },
  {
   "cell_type": "code",
   "execution_count": 6,
   "metadata": {},
   "outputs": [
    {
     "data": {
      "text/plain": [
       "['水泥',\n",
       " '食品',\n",
       " '塑膠',\n",
       " '紡織',\n",
       " '電機',\n",
       " '電器電纜',\n",
       " '化學',\n",
       " '生技',\n",
       " '玻璃',\n",
       " '造紙',\n",
       " '鋼鐵',\n",
       " '橡膠',\n",
       " '上櫃',\n",
       " '汽車',\n",
       " '半導體',\n",
       " '電腦週邊',\n",
       " '光電',\n",
       " '通訊網路',\n",
       " '電子零組件',\n",
       " '電子通路',\n",
       " '資訊服務',\n",
       " '其他電子',\n",
       " '營建',\n",
       " '航運',\n",
       " '觀光',\n",
       " '金融業',\n",
       " '貿易百貨',\n",
       " '油電燃氣',\n",
       " '存託憑證',\n",
       " 'ETF',\n",
       " '受益證券',\n",
       " 'ETN',\n",
       " '創新板',\n",
       " '其他',\n",
       " '市認購',\n",
       " '市認售',\n",
       " '指數類',\n",
       " '市牛證',\n",
       " '市熊證',\n",
       " '戰略新板']"
      ]
     },
     "execution_count": 6,
     "metadata": {},
     "output_type": "execute_result"
    }
   ],
   "source": [
    "import json\n",
    "list(ticker.keys())"
   ]
  },
  {
   "cell_type": "code",
   "execution_count": 5,
   "metadata": {},
   "outputs": [
    {
     "name": "stderr",
     "output_type": "stream",
     "text": [
      "100%|██████████| 40/40 [15:57<00:00, 23.93s/it] \n"
     ]
    }
   ],
   "source": [
    "for key in tqdm(ticker.keys()):\n",
    "    chrome.get(\"https://tw.stock.yahoo.com/h/kimosel.php?tse=1&cat=\" + key + \"&form=menu&form_id=stock_id&form_name=stock_name&domain=0\")\n",
    "    tables_tag = chrome.find_elements(by = By.TAG_NAME, value = \"table\")[6]\n",
    "    a_tags = tables_tag.find_elements(by = By.TAG_NAME, value = \"a\")\n",
    "\n",
    "    for a_tag in a_tags: ticker[key].append(a_tag.text)\n",
    "\n",
    "    time.sleep(0.5)\n"
   ]
  },
  {
   "cell_type": "code",
   "execution_count": 8,
   "metadata": {},
   "outputs": [],
   "source": [
    "a = []\n",
    "b = []\n",
    "\n",
    "for key in ticker.keys():\n",
    "    a.extend(ticker[key])\n",
    "    b.extend([key for i in range(len(ticker[key]))])"
   ]
  },
  {
   "cell_type": "code",
   "execution_count": 9,
   "metadata": {},
   "outputs": [
    {
     "data": {
      "text/html": [
       "<div>\n",
       "<style scoped>\n",
       "    .dataframe tbody tr th:only-of-type {\n",
       "        vertical-align: middle;\n",
       "    }\n",
       "\n",
       "    .dataframe tbody tr th {\n",
       "        vertical-align: top;\n",
       "    }\n",
       "\n",
       "    .dataframe thead th {\n",
       "        text-align: right;\n",
       "    }\n",
       "</style>\n",
       "<table border=\"1\" class=\"dataframe\">\n",
       "  <thead>\n",
       "    <tr style=\"text-align: right;\">\n",
       "      <th></th>\n",
       "      <th>ticker</th>\n",
       "      <th>class</th>\n",
       "    </tr>\n",
       "  </thead>\n",
       "  <tbody>\n",
       "    <tr>\n",
       "      <th>0</th>\n",
       "      <td>1101 台泥</td>\n",
       "      <td>水泥</td>\n",
       "    </tr>\n",
       "    <tr>\n",
       "      <th>1</th>\n",
       "      <td>1101B 台泥乙特</td>\n",
       "      <td>水泥</td>\n",
       "    </tr>\n",
       "    <tr>\n",
       "      <th>2</th>\n",
       "      <td>1102 亞泥</td>\n",
       "      <td>水泥</td>\n",
       "    </tr>\n",
       "    <tr>\n",
       "      <th>3</th>\n",
       "      <td>1103 嘉泥</td>\n",
       "      <td>水泥</td>\n",
       "    </tr>\n",
       "    <tr>\n",
       "      <th>4</th>\n",
       "      <td>1104 環泥</td>\n",
       "      <td>水泥</td>\n",
       "    </tr>\n",
       "    <tr>\n",
       "      <th>...</th>\n",
       "      <td>...</td>\n",
       "      <td>...</td>\n",
       "    </tr>\n",
       "    <tr>\n",
       "      <th>26002</th>\n",
       "      <td>6912 益鈞環科*-新</td>\n",
       "      <td>戰略新板</td>\n",
       "    </tr>\n",
       "    <tr>\n",
       "      <th>26003</th>\n",
       "      <td>6913 鴻呈-新</td>\n",
       "      <td>戰略新板</td>\n",
       "    </tr>\n",
       "    <tr>\n",
       "      <th>26004</th>\n",
       "      <td>6922 宸曜-新</td>\n",
       "      <td>戰略新板</td>\n",
       "    </tr>\n",
       "    <tr>\n",
       "      <th>26005</th>\n",
       "      <td>6925 意藍-新</td>\n",
       "      <td>戰略新板</td>\n",
       "    </tr>\n",
       "    <tr>\n",
       "      <th>26006</th>\n",
       "      <td>7610 聯友金屬-新</td>\n",
       "      <td>戰略新板</td>\n",
       "    </tr>\n",
       "  </tbody>\n",
       "</table>\n",
       "<p>26007 rows × 2 columns</p>\n",
       "</div>"
      ],
      "text/plain": [
       "             ticker class\n",
       "0           1101 台泥    水泥\n",
       "1        1101B 台泥乙特    水泥\n",
       "2           1102 亞泥    水泥\n",
       "3           1103 嘉泥    水泥\n",
       "4           1104 環泥    水泥\n",
       "...             ...   ...\n",
       "26002  6912 益鈞環科*-新  戰略新板\n",
       "26003     6913 鴻呈-新  戰略新板\n",
       "26004     6922 宸曜-新  戰略新板\n",
       "26005     6925 意藍-新  戰略新板\n",
       "26006   7610 聯友金屬-新  戰略新板\n",
       "\n",
       "[26007 rows x 2 columns]"
      ]
     },
     "execution_count": 9,
     "metadata": {},
     "output_type": "execute_result"
    }
   ],
   "source": [
    "df = pd.DataFrame({ \"ticker\" : a, \"class\" : b })\n",
    "df"
   ]
  },
  {
   "cell_type": "code",
   "execution_count": 10,
   "metadata": {},
   "outputs": [],
   "source": [
    "df.to_csv(\"ticker_list.csv\", index = False)"
   ]
  }
 ],
 "metadata": {
  "kernelspec": {
   "display_name": "Python 3.8.10 64-bit",
   "language": "python",
   "name": "python3"
  },
  "language_info": {
   "codemirror_mode": {
    "name": "ipython",
    "version": 3
   },
   "file_extension": ".py",
   "mimetype": "text/x-python",
   "name": "python",
   "nbconvert_exporter": "python",
   "pygments_lexer": "ipython3",
   "version": "3.8.10"
  },
  "orig_nbformat": 4,
  "vscode": {
   "interpreter": {
    "hash": "916dbcbb3f70747c44a77c7bcd40155683ae19c65e1c03b4aa3499c5328201f1"
   }
  }
 },
 "nbformat": 4,
 "nbformat_minor": 2
}
