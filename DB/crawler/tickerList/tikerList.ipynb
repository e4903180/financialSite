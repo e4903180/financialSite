{
 "cells": [
  {
   "cell_type": "code",
   "execution_count": 1,
   "metadata": {},
   "outputs": [
    {
     "name": "stderr",
     "output_type": "stream",
     "text": [
      "\n",
      "\n",
      "====== WebDriver manager ======\n",
      "Current google-chrome version is 106.0.5249\n",
      "Get LATEST chromedriver version for 106.0.5249 google-chrome\n",
      "Driver [/home/cosbi/.wdm/drivers/chromedriver/linux64/106.0.5249.61/chromedriver] found in cache\n"
     ]
    }
   ],
   "source": [
    "import pandas as pd\n",
    "import time\n",
    "import requests\n",
    "import json\n",
    "from tqdm import tqdm\n",
    "\n",
    "from bs4 import BeautifulSoup\n",
    "from selenium import webdriver\n",
    "from selenium.webdriver.chrome.service import Service\n",
    "from webdriver_manager.chrome import ChromeDriverManager\n",
    "from selenium.webdriver.support.select import Select\n",
    "from selenium.webdriver.common.by import By\n",
    "\n",
    "options = webdriver.ChromeOptions()\n",
    "options.add_argument(\"--disable-notifications\")\n",
    "options.add_argument(\"--start-maximized\")\n",
    "options.add_argument(\"headless\")\n",
    "s = Service(ChromeDriverManager().install())\n",
    "chrome = webdriver.Chrome(options = options,service = s)"
   ]
  },
  {
   "cell_type": "code",
   "execution_count": 2,
   "metadata": {},
   "outputs": [],
   "source": [
    "chrome.get(\"https://tw.stock.yahoo.com/h/kimosel.php?tse=1&cat=%A5b%BE%C9%C5%E9&form=menu&form_id=stock_id&form_name=stock_name&domain=0\")"
   ]
  },
  {
   "cell_type": "code",
   "execution_count": 3,
   "metadata": {},
   "outputs": [],
   "source": [
    "ticker = {}\n",
    "td_text = chrome.find_elements(by = By.TAG_NAME, value = \"td\")[3].text\n",
    "tiker_row = td_text.split(\"\\n\")\n",
    "tiker_row[0] = tiker_row[0].replace(\"上市 \", \"\")\n",
    "tiker_row[len(tiker_row) - 1] = tiker_row[len(tiker_row) - 1][:-18]"
   ]
  },
  {
   "cell_type": "code",
   "execution_count": 4,
   "metadata": {},
   "outputs": [],
   "source": [
    "for row in tiker_row:\n",
    "    cols = row.split(\" \")\n",
    "\n",
    "    for col in cols: ticker[col] = []"
   ]
  },
  {
   "cell_type": "code",
   "execution_count": 5,
   "metadata": {},
   "outputs": [],
   "source": [
    "import json\n",
    "# list(ticker.keys())"
   ]
  },
  {
   "cell_type": "code",
   "execution_count": 6,
   "metadata": {},
   "outputs": [
    {
     "name": "stderr",
     "output_type": "stream",
     "text": [
      "100%|██████████| 40/40 [13:06<00:00, 19.65s/it] \n"
     ]
    }
   ],
   "source": [
    "for key in tqdm(ticker.keys()):\n",
    "    chrome.get(\"https://tw.stock.yahoo.com/h/kimosel.php?tse=1&cat=\" + key + \"&form=menu&form_id=stock_id&form_name=stock_name&domain=0\")\n",
    "    tables_tag = chrome.find_elements(by = By.TAG_NAME, value = \"table\")[6]\n",
    "    a_tags = tables_tag.find_elements(by = By.TAG_NAME, value = \"a\")\n",
    "\n",
    "    for a_tag in a_tags: ticker[key].append(a_tag.text)\n",
    "\n",
    "    time.sleep(0.5)\n"
   ]
  },
  {
   "cell_type": "code",
   "execution_count": 7,
   "metadata": {},
   "outputs": [],
   "source": [
    "a = []\n",
    "b = []\n",
    "c = []\n",
    "\n",
    "for key in ticker.keys():\n",
    "    for ele in ticker[key]:\n",
    "        a.append(ele)\n",
    "        b.append(ele.split(\" \")[0])\n",
    "\n",
    "    c.extend([key for i in range(len(ticker[key]))])"
   ]
  },
  {
   "cell_type": "code",
   "execution_count": 8,
   "metadata": {},
   "outputs": [
    {
     "data": {
      "text/html": [
       "<div>\n",
       "<style scoped>\n",
       "    .dataframe tbody tr th:only-of-type {\n",
       "        vertical-align: middle;\n",
       "    }\n",
       "\n",
       "    .dataframe tbody tr th {\n",
       "        vertical-align: top;\n",
       "    }\n",
       "\n",
       "    .dataframe thead th {\n",
       "        text-align: right;\n",
       "    }\n",
       "</style>\n",
       "<table border=\"1\" class=\"dataframe\">\n",
       "  <thead>\n",
       "    <tr style=\"text-align: right;\">\n",
       "      <th></th>\n",
       "      <th>stock_name</th>\n",
       "      <th>stock_num</th>\n",
       "      <th>class</th>\n",
       "    </tr>\n",
       "  </thead>\n",
       "  <tbody>\n",
       "    <tr>\n",
       "      <th>0</th>\n",
       "      <td>1101 台泥</td>\n",
       "      <td>1101</td>\n",
       "      <td>水泥</td>\n",
       "    </tr>\n",
       "    <tr>\n",
       "      <th>1</th>\n",
       "      <td>1101B 台泥乙特</td>\n",
       "      <td>1101B</td>\n",
       "      <td>水泥</td>\n",
       "    </tr>\n",
       "    <tr>\n",
       "      <th>2</th>\n",
       "      <td>1102 亞泥</td>\n",
       "      <td>1102</td>\n",
       "      <td>水泥</td>\n",
       "    </tr>\n",
       "    <tr>\n",
       "      <th>3</th>\n",
       "      <td>1103 嘉泥</td>\n",
       "      <td>1103</td>\n",
       "      <td>水泥</td>\n",
       "    </tr>\n",
       "    <tr>\n",
       "      <th>4</th>\n",
       "      <td>1104 環泥</td>\n",
       "      <td>1104</td>\n",
       "      <td>水泥</td>\n",
       "    </tr>\n",
       "    <tr>\n",
       "      <th>...</th>\n",
       "      <td>...</td>\n",
       "      <td>...</td>\n",
       "      <td>...</td>\n",
       "    </tr>\n",
       "    <tr>\n",
       "      <th>25875</th>\n",
       "      <td>6912 益鈞環科*-新</td>\n",
       "      <td>6912</td>\n",
       "      <td>戰略新板</td>\n",
       "    </tr>\n",
       "    <tr>\n",
       "      <th>25876</th>\n",
       "      <td>6913 鴻呈-新</td>\n",
       "      <td>6913</td>\n",
       "      <td>戰略新板</td>\n",
       "    </tr>\n",
       "    <tr>\n",
       "      <th>25877</th>\n",
       "      <td>6922 宸曜-新</td>\n",
       "      <td>6922</td>\n",
       "      <td>戰略新板</td>\n",
       "    </tr>\n",
       "    <tr>\n",
       "      <th>25878</th>\n",
       "      <td>6925 意藍-新</td>\n",
       "      <td>6925</td>\n",
       "      <td>戰略新板</td>\n",
       "    </tr>\n",
       "    <tr>\n",
       "      <th>25879</th>\n",
       "      <td>7610 聯友金屬-新</td>\n",
       "      <td>7610</td>\n",
       "      <td>戰略新板</td>\n",
       "    </tr>\n",
       "  </tbody>\n",
       "</table>\n",
       "<p>25880 rows × 3 columns</p>\n",
       "</div>"
      ],
      "text/plain": [
       "         stock_name stock_num class\n",
       "0           1101 台泥      1101    水泥\n",
       "1        1101B 台泥乙特     1101B    水泥\n",
       "2           1102 亞泥      1102    水泥\n",
       "3           1103 嘉泥      1103    水泥\n",
       "4           1104 環泥      1104    水泥\n",
       "...             ...       ...   ...\n",
       "25875  6912 益鈞環科*-新      6912  戰略新板\n",
       "25876     6913 鴻呈-新      6913  戰略新板\n",
       "25877     6922 宸曜-新      6922  戰略新板\n",
       "25878     6925 意藍-新      6925  戰略新板\n",
       "25879   7610 聯友金屬-新      7610  戰略新板\n",
       "\n",
       "[25880 rows x 3 columns]"
      ]
     },
     "execution_count": 8,
     "metadata": {},
     "output_type": "execute_result"
    }
   ],
   "source": [
    "df = pd.DataFrame({ \"stock_name\" : a, \"stock_num\" : b, \"class\" : c })\n",
    "df"
   ]
  },
  {
   "cell_type": "code",
   "execution_count": 16,
   "metadata": {},
   "outputs": [],
   "source": [
    "df.to_csv(\"ticker_list.csv\", index = False)"
   ]
  }
 ],
 "metadata": {
  "kernelspec": {
   "display_name": "Python 3.8.10 64-bit",
   "language": "python",
   "name": "python3"
  },
  "language_info": {
   "codemirror_mode": {
    "name": "ipython",
    "version": 3
   },
   "file_extension": ".py",
   "mimetype": "text/x-python",
   "name": "python",
   "nbconvert_exporter": "python",
   "pygments_lexer": "ipython3",
   "version": "3.8.10"
  },
  "orig_nbformat": 4,
  "vscode": {
   "interpreter": {
    "hash": "916dbcbb3f70747c44a77c7bcd40155683ae19c65e1c03b4aa3499c5328201f1"
   }
  }
 },
 "nbformat": 4,
 "nbformat_minor": 2
}
