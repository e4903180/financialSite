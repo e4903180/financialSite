{
 "cells": [
  {
   "cell_type": "code",
   "execution_count": 1,
   "metadata": {},
   "outputs": [
    {
     "name": "stderr",
     "output_type": "stream",
     "text": [
      "\n",
      "\n",
      "====== WebDriver manager ======\n",
      "Current google-chrome version is 106.0.5249\n",
      "Get LATEST chromedriver version for 106.0.5249 google-chrome\n",
      "Driver [/home/cosbi/.wdm/drivers/chromedriver/linux64/106.0.5249.61/chromedriver] found in cache\n"
     ]
    }
   ],
   "source": [
    "import pandas as pd\n",
    "import time\n",
    "import requests\n",
    "import json\n",
    "from tqdm import tqdm\n",
    "\n",
    "from bs4 import BeautifulSoup\n",
    "from selenium import webdriver\n",
    "from selenium.webdriver.chrome.service import Service\n",
    "from webdriver_manager.chrome import ChromeDriverManager\n",
    "from selenium.webdriver.support.select import Select\n",
    "from selenium.webdriver.common.by import By\n",
    "\n",
    "options = webdriver.ChromeOptions()\n",
    "options.add_argument(\"--disable-notifications\")\n",
    "options.add_argument(\"--start-maximized\")\n",
    "options.add_argument(\"headless\")\n",
    "s = Service(ChromeDriverManager().install())\n",
    "chrome = webdriver.Chrome(options = options,service = s)"
   ]
  },
  {
   "cell_type": "code",
   "execution_count": 14,
   "metadata": {},
   "outputs": [],
   "source": [
    "chrome.get(\"https://tw.stock.yahoo.com/h/kimosel.php?tse=2&cat=%E6%AB%83%E5%8D%8A%E5%B0%8E&form=menu&form_id=stock_id&form_name=stock_name&domain=0\")"
   ]
  },
  {
   "cell_type": "code",
   "execution_count": 21,
   "metadata": {},
   "outputs": [],
   "source": [
    "ticker = {}\n",
    "td_text = chrome.find_elements(by = By.TAG_NAME, value = \"td\")[3].text\n",
    "tiker_row = td_text.split(\"\\n\")\n",
    "tiker_row[0] = tiker_row[0].replace(\"上市 \", \"\")\n",
    "tiker_row[0] = tiker_row[0].replace(\" 上櫃\", \"\")\n",
    "tiker_row[len(tiker_row) - 1] = tiker_row[len(tiker_row) - 1][:-8]"
   ]
  },
  {
   "cell_type": "code",
   "execution_count": 23,
   "metadata": {},
   "outputs": [],
   "source": [
    "for row in tiker_row:\n",
    "    cols = row.split(\" \")\n",
    "\n",
    "    for col in cols: ticker[col] = []"
   ]
  },
  {
   "cell_type": "code",
   "execution_count": 25,
   "metadata": {},
   "outputs": [
    {
     "name": "stderr",
     "output_type": "stream",
     "text": [
      "100%|██████████| 32/32 [03:44<00:00,  7.01s/it]\n"
     ]
    }
   ],
   "source": [
    "for key in tqdm(ticker.keys()):\n",
    "    chrome.get(\"https://tw.stock.yahoo.com/h/kimosel.php?tse=2&cat=\" + key + \"&form=menu&form_id=stock_id&form_name=stock_name&domain=0\")\n",
    "    tables_tag = chrome.find_elements(by = By.TAG_NAME, value = \"table\")[6]\n",
    "    a_tags = tables_tag.find_elements(by = By.TAG_NAME, value = \"a\")\n",
    "\n",
    "    for a_tag in a_tags: ticker[key].append(a_tag.text)\n",
    "\n",
    "    time.sleep(0.5)\n"
   ]
  },
  {
   "cell_type": "code",
   "execution_count": 26,
   "metadata": {},
   "outputs": [],
   "source": [
    "a = []\n",
    "b = []\n",
    "c = []\n",
    "\n",
    "for key in ticker.keys():\n",
    "    for ele in ticker[key]:\n",
    "        a.append(ele)\n",
    "        b.append(ele.split(\" \")[0])\n",
    "\n",
    "    c.extend([key for i in range(len(ticker[key]))])"
   ]
  },
  {
   "cell_type": "code",
   "execution_count": 27,
   "metadata": {},
   "outputs": [
    {
     "data": {
      "text/html": [
       "<div>\n",
       "<style scoped>\n",
       "    .dataframe tbody tr th:only-of-type {\n",
       "        vertical-align: middle;\n",
       "    }\n",
       "\n",
       "    .dataframe tbody tr th {\n",
       "        vertical-align: top;\n",
       "    }\n",
       "\n",
       "    .dataframe thead th {\n",
       "        text-align: right;\n",
       "    }\n",
       "</style>\n",
       "<table border=\"1\" class=\"dataframe\">\n",
       "  <thead>\n",
       "    <tr style=\"text-align: right;\">\n",
       "      <th></th>\n",
       "      <th>stock_name</th>\n",
       "      <th>stock_num</th>\n",
       "      <th>class</th>\n",
       "    </tr>\n",
       "  </thead>\n",
       "  <tbody>\n",
       "    <tr>\n",
       "      <th>0</th>\n",
       "      <td>EMP88 就業88</td>\n",
       "      <td>EMP88</td>\n",
       "      <td>櫃指數類</td>\n",
       "    </tr>\n",
       "    <tr>\n",
       "      <th>1</th>\n",
       "      <td>GTCI 薪酬指數</td>\n",
       "      <td>GTCI</td>\n",
       "      <td>櫃指數類</td>\n",
       "    </tr>\n",
       "    <tr>\n",
       "      <th>2</th>\n",
       "      <td>GTHD 高殖利</td>\n",
       "      <td>GTHD</td>\n",
       "      <td>櫃指數類</td>\n",
       "    </tr>\n",
       "    <tr>\n",
       "      <th>3</th>\n",
       "      <td>GTSM50 富櫃50</td>\n",
       "      <td>GTSM50</td>\n",
       "      <td>櫃指數類</td>\n",
       "    </tr>\n",
       "    <tr>\n",
       "      <th>4</th>\n",
       "      <td>IR0118 富櫃200報酬指</td>\n",
       "      <td>IR0118</td>\n",
       "      <td>櫃指數類</td>\n",
       "    </tr>\n",
       "    <tr>\n",
       "      <th>...</th>\n",
       "      <td>...</td>\n",
       "      <td>...</td>\n",
       "      <td>...</td>\n",
       "    </tr>\n",
       "    <tr>\n",
       "      <th>7909</th>\n",
       "      <td>72006P 威剛富邦25售01</td>\n",
       "      <td>72006P</td>\n",
       "      <td>櫃認售</td>\n",
       "    </tr>\n",
       "    <tr>\n",
       "      <th>7910</th>\n",
       "      <td>72007P 元太群益25售13</td>\n",
       "      <td>72007P</td>\n",
       "      <td>櫃認售</td>\n",
       "    </tr>\n",
       "    <tr>\n",
       "      <th>7911</th>\n",
       "      <td>72008P 鈺創群益25售03</td>\n",
       "      <td>72008P</td>\n",
       "      <td>櫃認售</td>\n",
       "    </tr>\n",
       "    <tr>\n",
       "      <th>7912</th>\n",
       "      <td>72009P 優群群益25售02</td>\n",
       "      <td>72009P</td>\n",
       "      <td>櫃認售</td>\n",
       "    </tr>\n",
       "    <tr>\n",
       "      <th>7913</th>\n",
       "      <td>72010P 元太元大25售21</td>\n",
       "      <td>72010P</td>\n",
       "      <td>櫃認售</td>\n",
       "    </tr>\n",
       "  </tbody>\n",
       "</table>\n",
       "<p>7914 rows × 3 columns</p>\n",
       "</div>"
      ],
      "text/plain": [
       "            stock_name stock_num class\n",
       "0           EMP88 就業88     EMP88  櫃指數類\n",
       "1            GTCI 薪酬指數      GTCI  櫃指數類\n",
       "2             GTHD 高殖利      GTHD  櫃指數類\n",
       "3          GTSM50 富櫃50    GTSM50  櫃指數類\n",
       "4      IR0118 富櫃200報酬指    IR0118  櫃指數類\n",
       "...                ...       ...   ...\n",
       "7909  72006P 威剛富邦25售01    72006P   櫃認售\n",
       "7910  72007P 元太群益25售13    72007P   櫃認售\n",
       "7911  72008P 鈺創群益25售03    72008P   櫃認售\n",
       "7912  72009P 優群群益25售02    72009P   櫃認售\n",
       "7913  72010P 元太元大25售21    72010P   櫃認售\n",
       "\n",
       "[7914 rows x 3 columns]"
      ]
     },
     "execution_count": 27,
     "metadata": {},
     "output_type": "execute_result"
    }
   ],
   "source": [
    "df = pd.DataFrame({ \"stock_name\" : a, \"stock_num\" : b, \"class\" : c })\n",
    "df"
   ]
  },
  {
   "cell_type": "code",
   "execution_count": 9,
   "metadata": {},
   "outputs": [],
   "source": [
    "df.to_csv(\"ticker_list.csv\", index = False)"
   ]
  }
 ],
 "metadata": {
  "kernelspec": {
   "display_name": "Python 3.8.10 64-bit",
   "language": "python",
   "name": "python3"
  },
  "language_info": {
   "codemirror_mode": {
    "name": "ipython",
    "version": 3
   },
   "file_extension": ".py",
   "mimetype": "text/x-python",
   "name": "python",
   "nbconvert_exporter": "python",
   "pygments_lexer": "ipython3",
   "version": "3.8.10"
  },
  "orig_nbformat": 4,
  "vscode": {
   "interpreter": {
    "hash": "916dbcbb3f70747c44a77c7bcd40155683ae19c65e1c03b4aa3499c5328201f1"
   }
  }
 },
 "nbformat": 4,
 "nbformat_minor": 2
}
