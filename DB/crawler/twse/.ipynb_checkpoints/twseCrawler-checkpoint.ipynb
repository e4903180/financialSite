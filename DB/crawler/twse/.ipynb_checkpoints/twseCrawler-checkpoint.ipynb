{
 "cells": [
  {
   "cell_type": "code",
   "execution_count": 1,
   "metadata": {},
   "outputs": [],
   "source": [
    "from bs4 import BeautifulSoup\n",
    "from selenium import webdriver\n",
    "from selenium.webdriver.chrome.service import Service\n",
    "from webdriver_manager.chrome import ChromeDriverManager\n",
    "from selenium.webdriver.common.by import By\n",
    "from selenium.webdriver.support.select import Select\n",
    "from tqdm import trange\n",
    "import pandas as pd\n",
    "import requests\n",
    "import os\n",
    "from typing import Any, List\n",
    "import MySQLdb\n",
    "import time"
   ]
  },
  {
   "cell_type": "code",
   "execution_count": 2,
   "metadata": {},
   "outputs": [],
   "source": [
    "class TwseSelenium():\n",
    "    \n",
    "    def __init__(self) -> None:\n",
    "        _options = webdriver.ChromeOptions()\n",
    "        _options.add_argument('--headless')\n",
    "        _s = Service(ChromeDriverManager().install())\n",
    "        \n",
    "        self.driver = webdriver.Chrome(options = _options, service = _s)\n",
    "\n",
    "    def driver_find(self, month:int) -> Any:\n",
    "        self.driver.get(\"https://mops.twse.com.tw/mops/web/t100sb02_1\")\n",
    "        \n",
    "        select_element = self.driver.find_element(by = By.NAME, value = \"month\")\n",
    "        select_object = Select(select_element)\n",
    "        select_object.select_by_index(month)\n",
    "        \n",
    "        self.driver.find_elements(by = By.XPATH, value = \"//input[@type='button']\")[1].click()\n",
    "        time.sleep(3)\n",
    "        \n",
    "        soup = BeautifulSoup(self.driver.page_source, 'html.parser')\n",
    "        \n",
    "        return soup"
   ]
  },
  {
   "cell_type": "code",
   "execution_count": 32,
   "metadata": {},
   "outputs": [],
   "source": [
    "class MySQL():\n",
    "    \n",
    "    def __init__(self) -> None:\n",
    "        self._db = MySQLdb.connect(host = \"localhost\", user = \"debian-sys-maint\",\n",
    "                                   passwd = \"CEMj8ptYHraxNxFt\", db = \"financial\", charset = \"utf8\")\n",
    "        self._cursor = self._db.cursor()\n",
    "        \n",
    "    def search(self, stockNum:str, date:str) -> List:        \n",
    "        sql = \"SELECT * from calender WHERE `stockNum`='%s' AND `date`='%s';\" % (stockNum, date)\n",
    "\n",
    "        self._cursor.execute(sql)\n",
    "        self._db.commit()\n",
    "        \n",
    "        return self._cursor.fetchall()\n",
    "    \n",
    "    def insert(self, stockNum, stockName, Date, Time, Form, Message, chPDF, enPDF, More_information, Video_address, Attention) -> None:\n",
    "        self._cursor.execute(\"INSERT INTO calender (`stockNum`, `stockName`, `Date`, `Time`, `Form`, `Message`, `chPDF`, `enPDF`, `More information`, `Video address`, `Attention`)\"\n",
    "                        \" VALUES (%s, %s, %s, %s, %s, %s, %s, %s, %s, %s, %s);\", (stockNum.encode('utf-8'), stockName.encode('utf-8'), Date.encode('utf-8'), Time.encode('utf-8'), Form.encode('utf-8'), Message.encode('utf-8'), chPDF.encode('utf-8'), enPDF.encode('utf-8'), More_information.encode('utf-8'), Video_address.encode('utf-8'), Attention.encode('utf-8')))\n",
    "        self._db.commit()\n",
    "        \n",
    "    def update(self, stockNum, Date, Time, Form, Message, chPDF, enPDF, More_information, Video_address, Attention) -> None:\n",
    "        sql = \"UPDATE calender SET `Time`='%s', `Form`='%s', `Message`='%s', `chPDF`='%s', `enPDF`='%s', `More information`='%s', `Video address`='%s', `Attention`='%s' WHERE `stockNum`='%s' AND `Date`='%s';\" % (Time, Form, Message, chPDF, enPDF, More_information, Video_address, Attention, stockNum, Date)\n",
    "        \n",
    "        self._cursor.execute(sql)\n",
    "        self._db.commit()\n",
    "        \n",
    "    def close(self) -> None:\n",
    "        _db.close()"
   ]
  },
  {
   "cell_type": "code",
   "execution_count": 39,
   "metadata": {},
   "outputs": [],
   "source": [
    "class Twse(TwseSelenium, MySQL):\n",
    "    \n",
    "    def __init__(self):\n",
    "        TwseSelenium.__init__(self)\n",
    "        MySQL.__init__(self)\n",
    "        \n",
    "    def _download_pdf(self, lang:str, stockNum:str, fileName:str) -> None:\n",
    "        if \".pdf\" in fileName and os.path.isfile(\"/home/cosbi/桌面/financialData/twseData/data/\" + lang + \"/\" + stockNum + \"/\" + fileName) == False:\n",
    "            \n",
    "            download_payload = {\n",
    "                \"step\": \"9\",\n",
    "                \"filePath\": \"/home/html/nas/STR/\",\n",
    "                \"fileName\": fileName,\n",
    "                \"functionName\": \"t100sb02_1\"\n",
    "            }\n",
    "\n",
    "            while(True):\n",
    "                download_response = requests.post(\"https://mops.twse.com.tw/server-java/FileDownLoad\"\n",
    "                                     , data = download_payload)\n",
    "\n",
    "                data = download_response.content\n",
    "                time.sleep(1)\n",
    "\n",
    "                if(len(data) != 496):\n",
    "                    break\n",
    "\n",
    "            with open(\"/home/cosbi/桌面/financialData/twseData/data/\" + lang + \"/\" + stockNum + \"/\" + fileName, 'wb') as s:\n",
    "                s.write(data)\n",
    "    \n",
    "    def crawler(self, month:str):\n",
    "        soup = self.driver_find(month)\n",
    "        \n",
    "        result_even = soup.find_all(\"tr\", class_ = \"even\")\n",
    "        result_odd = soup.find_all(\"tr\", class_ = \"odd\")\n",
    "        result_total = result_even + result_odd\n",
    "\n",
    "        for i in trange(len(result_total)):\n",
    "            data_td = result_total[i].find_all(\"td\")\n",
    "            \n",
    "            row_date = data_td[2].getText().replace(\"/\", \"-\")\n",
    "            newYear = str(int(row_date.split(\"-\")[0]) + 1911)\n",
    "            row_date = row_date.replace(row_date.split(\"-\")[0], \"\")\n",
    "            row_date = newYear + row_date\n",
    "            \n",
    "            sql_result = list(self.search(data_td[0].getText(), row_date))\n",
    "            \n",
    "            if(len(sql_result) == 0):\n",
    "                self._download_pdf(\"ch\", data_td[0].getText(), data_td[6].getText())\n",
    "                self._download_pdf(\"en\", data_td[0].getText(), data_td[7].getText())\n",
    "                \n",
    "                self.insert(data_td[0].getText(), data_td[1].getText(), data_td[2].getText(), data_td[3].getText(),\n",
    "                           data_td[4].getText(), data_td[5].getText(), data_td[6].getText(), data_td[7].getText(),\n",
    "                           data_td[8].getText(), data_td[9].getText(), data_td[10].getText())\n",
    "                \n",
    "            else:\n",
    "                self._download_pdf(\"ch\", data_td[0].getText(), data_td[6].getText())\n",
    "                self._download_pdf(\"en\", data_td[0].getText(), data_td[7].getText())\n",
    "                \n",
    "                self.update(data_td[0].getText(), row_date, data_td[3].getText(),\n",
    "                           data_td[4].getText(), data_td[5].getText(), data_td[6].getText(), data_td[7].getText(),\n",
    "                           data_td[8].getText(), data_td[9].getText(), data_td[10].getText())"
   ]
  },
  {
   "cell_type": "code",
   "execution_count": 40,
   "metadata": {},
   "outputs": [
    {
     "name": "stderr",
     "output_type": "stream",
     "text": [
      "\n",
      "\n",
      "====== WebDriver manager ======\n",
      "Current google-chrome version is 103.0.5060\n",
      "Get LATEST chromedriver version for 103.0.5060 google-chrome\n",
      "Driver [/home/cosbi/.wdm/drivers/chromedriver/linux64/103.0.5060.53/chromedriver] found in cache\n",
      "100%|███████████████████████████████████████████| 66/66 [00:07<00:00,  8.38it/s]\n"
     ]
    }
   ],
   "source": [
    "twse = Twse()\n",
    "\n",
    "twse.crawler(1)"
   ]
  },
  {
   "cell_type": "markdown",
   "metadata": {},
   "source": [
    "# Selenium"
   ]
  },
  {
   "cell_type": "code",
   "execution_count": null,
   "metadata": {},
   "outputs": [],
   "source": [
    "options = webdriver.ChromeOptions()\n",
    "options.add_argument('--headless')\n",
    "\n",
    "s = Service(ChromeDriverManager().install())\n",
    "driver = webdriver.Chrome(options = options,service = s)"
   ]
  },
  {
   "cell_type": "code",
   "execution_count": null,
   "metadata": {},
   "outputs": [],
   "source": [
    "driver.get(\"https://mops.twse.com.tw/mops/web/t100sb02_1\")"
   ]
  },
  {
   "cell_type": "code",
   "execution_count": null,
   "metadata": {},
   "outputs": [],
   "source": [
    "select_element = driver.find_element(by = By.NAME, value = \"month\")\n",
    "select_object = Select(select_element)\n",
    "select_object.select_by_index(1)"
   ]
  },
  {
   "cell_type": "code",
   "execution_count": null,
   "metadata": {},
   "outputs": [],
   "source": [
    "driver.find_elements(by = By.XPATH, value = \"//input[@type='button']\")[1].click()"
   ]
  },
  {
   "cell_type": "markdown",
   "metadata": {},
   "source": [
    "# Bs4"
   ]
  },
  {
   "cell_type": "code",
   "execution_count": null,
   "metadata": {},
   "outputs": [],
   "source": [
    "soup = BeautifulSoup(driver.page_source, 'html.parser')"
   ]
  },
  {
   "cell_type": "code",
   "execution_count": null,
   "metadata": {},
   "outputs": [],
   "source": [
    "Id, name, date, time, place, message, ch_file, en_file, more_information, video_address, attention = [[] for x in range(11)]"
   ]
  },
  {
   "cell_type": "code",
   "execution_count": null,
   "metadata": {},
   "outputs": [],
   "source": [
    "result_even = soup.find_all(\"tr\", class_ = \"even\")\n",
    "result_odd = soup.find_all(\"tr\", class_ = \"odd\")\n",
    "result_total = result_even + result_odd\n",
    "\n",
    "for i in trange(len(result_total)):\n",
    "    data_td = result_total[i].find_all(\"td\")\n",
    "\n",
    "    for ptr in range(len(data_td)):\n",
    "        if ptr == 0:\n",
    "            Id.append(data_td[ptr].getText())\n",
    "        elif ptr == 1:\n",
    "            name.append(data_td[ptr].getText())\n",
    "        elif ptr == 2:\n",
    "            temp = data_td[ptr].getText().replace(\"/\", \"-\")\n",
    "            newYear = str(int(temp.split(\"-\")[0]) + 1911)\n",
    "            temp = temp.replace(temp.split(\"-\")[0], \"\")\n",
    "            temp = newYear + temp\n",
    "            date.append(temp)\n",
    "        elif ptr == 3:\n",
    "            time.append(data_td[ptr].getText())\n",
    "        elif ptr == 4:\n",
    "            temp = data_td[ptr].getText()\n",
    "            place.append(temp)\n",
    "        elif ptr == 5:\n",
    "            temp = data_td[ptr].getText()\n",
    "            message.append(temp)\n",
    "        elif ptr == 6:\n",
    "            temp = data_td[ptr].getText()\n",
    "\n",
    "            if \".pdf\" in temp:\n",
    "                download_payload = {\n",
    "                    \"step\": \"9\",\n",
    "                    \"filePath\": \"/home/html/nas/STR/\",\n",
    "                    \"fileName\": str(temp),\n",
    "                    \"functionName\": \"t100sb02_1\"\n",
    "                }\n",
    "\n",
    "                while(True):\n",
    "                    download_response = requests.post(\"https://mops.twse.com.tw/server-java/FileDownLoad\"\n",
    "                                         , data = download_payload)\n",
    "\n",
    "                    data = download_response.content\n",
    "                    tm.sleep(1)\n",
    "\n",
    "                    if(len(data) != 496):\n",
    "                        break\n",
    "                \n",
    "                if not os.path.isdir(\"/home/cosbi/桌面/financialData/twseData/data/ch/\" + Id[-1]):\n",
    "                    os.mkdir(\"/home/cosbi/桌面/financialData/twseData/data/ch/\" + Id[-1])\n",
    "                \n",
    "                with open(\"/home/cosbi/桌面/financialData/twseData/data/ch/\" + Id[-1] + \"/\" + temp, 'wb') as s:\n",
    "                    s.write(data)\n",
    "\n",
    "                ch_file.append(temp)\n",
    "            else:\n",
    "                ch_file.append(\"null\")\n",
    "        elif ptr == 7:\n",
    "            temp = data_td[ptr].getText()\n",
    "\n",
    "            if \".pdf\" in temp:\n",
    "                download_payload = {\n",
    "                    \"step\": \"9\",\n",
    "                    \"filePath\": \"/home/html/nas/STR/\",\n",
    "                    \"fileName\": str(temp),\n",
    "                    \"functionName\": \"t100sb02_1\"\n",
    "                }\n",
    "\n",
    "                while(True):\n",
    "                    download_response = requests.post(\"https://mops.twse.com.tw/server-java/FileDownLoad\"\n",
    "                                            , data = download_payload)\n",
    "                    \n",
    "                    data = download_response.content\n",
    "                    tm.sleep(1)\n",
    "\n",
    "                    if(len(data) != 496):\n",
    "                        break\n",
    "                \n",
    "                if not os.path.isdir(\"/home/cosbi/桌面/financialData/twseData/data/en/\" + Id[-1]):\n",
    "                    os.mkdir(\"/home/cosbi/桌面/financialData/twseData/data/en/\" + Id[-1])\n",
    "                \n",
    "                with open(\"/home/cosbi/桌面/financialData/twseData/data/en/\" + Id[-1] + \"/\" + temp, 'wb') as s:\n",
    "                    s.write(data)\n",
    "\n",
    "                en_file.append(temp)\n",
    "            else:\n",
    "                en_file.append(\"null\")\n",
    "        elif ptr == 8:\n",
    "            more_information.append(data_td[ptr].getText())\n",
    "        elif ptr == 9:\n",
    "            temp = data_td[ptr].getText()\n",
    "            \n",
    "            video_address.append(temp)\n",
    "        elif ptr == 10:\n",
    "            if(data_td[ptr].getText() == \"\"):\n",
    "                attention.append(\"無\")\n",
    "            else:\n",
    "                attention.append(data_td[ptr].getText())"
   ]
  },
  {
   "cell_type": "code",
   "execution_count": null,
   "metadata": {},
   "outputs": [],
   "source": [
    "df = pd.DataFrame({\"Co_ID\" : Id, \"Co_name\" : name, \"Date\" : date, \"Time\" : time, \"Form\" : place, \"Message\" : message\n",
    "                          , \"CH_file\" : ch_file, \"EN_file\" : en_file, \"More information\" : more_information, \"Video address\" : video_address, \"Attention\" : attention})"
   ]
  },
  {
   "cell_type": "code",
   "execution_count": null,
   "metadata": {},
   "outputs": [],
   "source": [
    "df.head(10)"
   ]
  },
  {
   "cell_type": "code",
   "execution_count": null,
   "metadata": {},
   "outputs": [],
   "source": [
    "df.to_csv(\"/home/cosbi/桌面/financialData/twseData/dataFrame/2022-06.csv\", index = False)"
   ]
  },
  {
   "cell_type": "code",
   "execution_count": null,
   "metadata": {},
   "outputs": [],
   "source": []
  }
 ],
 "metadata": {
  "interpreter": {
   "hash": "916dbcbb3f70747c44a77c7bcd40155683ae19c65e1c03b4aa3499c5328201f1"
  },
  "kernelspec": {
   "display_name": "Python 3 (ipykernel)",
   "language": "python",
   "name": "python3"
  },
  "language_info": {
   "codemirror_mode": {
    "name": "ipython",
    "version": 3
   },
   "file_extension": ".py",
   "mimetype": "text/x-python",
   "name": "python",
   "nbconvert_exporter": "python",
   "pygments_lexer": "ipython3",
   "version": "3.8.10"
  }
 },
 "nbformat": 4,
 "nbformat_minor": 2
}
