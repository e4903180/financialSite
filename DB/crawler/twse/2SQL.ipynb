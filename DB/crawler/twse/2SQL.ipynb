{
 "cells": [
  {
   "cell_type": "code",
   "execution_count": 1,
   "id": "f70f44ab",
   "metadata": {},
   "outputs": [],
   "source": [
    "import MySQLdb\n",
    "import pandas as pd\n",
    "from tqdm import trange"
   ]
  },
  {
   "cell_type": "code",
   "execution_count": 2,
   "id": "3621bc0a",
   "metadata": {},
   "outputs": [],
   "source": [
    "df = pd.read_csv(\"/home/cosbi/桌面/financialData/twseData/dataFrame/2022-06.csv\", delimiter = \",\")\n",
    "df = df.fillna(\"NULL\")"
   ]
  },
  {
   "cell_type": "code",
   "execution_count": 2,
   "id": "21e1e0e3",
   "metadata": {},
   "outputs": [],
   "source": [
    "db = MySQLdb.connect(host = \"localhost\", user = \"debian-sys-maint\",\n",
    "                     passwd = \"CEMj8ptYHraxNxFt\", db = \"financial\", charset = \"utf8\")\n",
    "\n",
    "cursor = db.cursor()"
   ]
  },
  {
   "cell_type": "code",
   "execution_count": 5,
   "id": "4f045414",
   "metadata": {},
   "outputs": [
    {
     "name": "stderr",
     "output_type": "stream",
     "text": [
      "100%|███████████████████████████████████████████| 99/99 [00:17<00:00,  5.58it/s]\n"
     ]
    }
   ],
   "source": [
    "for i in trange(len(df)):\n",
    "    cursor.execute(\"INSERT INTO calender (`stockNum`, `stockName`, `Date`, `Time`, `Form`, `Message`, `chPDF`, `enPDF`, `More information`, `Video address`, `Attention`)\"\n",
    "                   \" VALUES (%s, %s, %s, %s, %s, %s, %s, %s, %s, %s, %s);\", (df[\"Co_ID\"][i], df[\"Co_name\"][i], df[\"Date\"][i], df[\"Time\"][i], df[\"Form\"][i], df[\"Message\"][i], df[\"CH_file\"][i], df[\"EN_file\"][i], df[\"More information\"][i], df[\"Video address\"][i], df[\"Attention\"][i]))\n",
    "    db.commit()"
   ]
  },
  {
   "cell_type": "code",
   "execution_count": 6,
   "id": "a2cdcc3c",
   "metadata": {},
   "outputs": [],
   "source": [
    "db.close()"
   ]
  },
  {
   "cell_type": "code",
   "execution_count": null,
   "id": "5be892d3",
   "metadata": {},
   "outputs": [],
   "source": []
  }
 ],
 "metadata": {
  "kernelspec": {
   "display_name": "Python 3 (ipykernel)",
   "language": "python",
   "name": "python3"
  },
  "language_info": {
   "codemirror_mode": {
    "name": "ipython",
    "version": 3
   },
   "file_extension": ".py",
   "mimetype": "text/x-python",
   "name": "python",
   "nbconvert_exporter": "python",
   "pygments_lexer": "ipython3",
   "version": "3.8.10"
  },
  "vscode": {
   "interpreter": {
    "hash": "916dbcbb3f70747c44a77c7bcd40155683ae19c65e1c03b4aa3499c5328201f1"
   }
  }
 },
 "nbformat": 4,
 "nbformat_minor": 5
}
