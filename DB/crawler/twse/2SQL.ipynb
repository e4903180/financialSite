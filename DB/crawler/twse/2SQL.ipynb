{
 "cells": [
  {
   "cell_type": "code",
   "execution_count": 1,
   "id": "f70f44ab",
   "metadata": {},
   "outputs": [],
   "source": [
    "import MySQLdb\n",
    "import pandas as pd\n",
    "from tqdm import trange"
   ]
  },
  {
   "cell_type": "code",
   "execution_count": 2,
   "id": "3621bc0a",
   "metadata": {},
   "outputs": [],
   "source": [
    "df = pd.read_csv(\"twseTest.csv\")\n",
    "df = df.fillna(\"NULL\")"
   ]
  },
  {
   "cell_type": "code",
   "execution_count": 3,
   "id": "e6fd4e5d",
   "metadata": {},
   "outputs": [
    {
     "data": {
      "text/html": [
       "<div>\n",
       "<style scoped>\n",
       "    .dataframe tbody tr th:only-of-type {\n",
       "        vertical-align: middle;\n",
       "    }\n",
       "\n",
       "    .dataframe tbody tr th {\n",
       "        vertical-align: top;\n",
       "    }\n",
       "\n",
       "    .dataframe thead th {\n",
       "        text-align: right;\n",
       "    }\n",
       "</style>\n",
       "<table border=\"1\" class=\"dataframe\">\n",
       "  <thead>\n",
       "    <tr style=\"text-align: right;\">\n",
       "      <th></th>\n",
       "      <th>Co_ID</th>\n",
       "      <th>Co_name</th>\n",
       "      <th>Date</th>\n",
       "      <th>Time</th>\n",
       "      <th>Form</th>\n",
       "      <th>Message</th>\n",
       "      <th>More information</th>\n",
       "      <th>Video address</th>\n",
       "      <th>Attention</th>\n",
       "    </tr>\n",
       "  </thead>\n",
       "  <tbody>\n",
       "    <tr>\n",
       "      <th>0</th>\n",
       "      <td>2454</td>\n",
       "      <td>聯發科</td>\n",
       "      <td>2022-01-27</td>\n",
       "      <td>15:00</td>\n",
       "      <td>線上法說會</td>\n",
       "      <td>(1) 公布本公司2021年第4季財務報告及2022年第1季業績展望。 (2) 參加方式：請...</td>\n",
       "      <td>https://www.mediatek.com/</td>\n",
       "      <td>\\n影音資訊網址：\\nhttps://webpage-ott2b.cdn.hinet.net...</td>\n",
       "      <td>無</td>\n",
       "    </tr>\n",
       "  </tbody>\n",
       "</table>\n",
       "</div>"
      ],
      "text/plain": [
       "   Co_ID Co_name        Date   Time   Form  \\\n",
       "0   2454     聯發科  2022-01-27  15:00  線上法說會   \n",
       "\n",
       "                                             Message  \\\n",
       "0  (1) 公布本公司2021年第4季財務報告及2022年第1季業績展望。 (2) 參加方式：請...   \n",
       "\n",
       "            More information  \\\n",
       "0  https://www.mediatek.com/   \n",
       "\n",
       "                                       Video address Attention  \n",
       "0  \\n影音資訊網址：\\nhttps://webpage-ott2b.cdn.hinet.net...         無  "
      ]
     },
     "execution_count": 3,
     "metadata": {},
     "output_type": "execute_result"
    }
   ],
   "source": [
    "df.head(1)"
   ]
  },
  {
   "cell_type": "code",
   "execution_count": 4,
   "id": "21e1e0e3",
   "metadata": {},
   "outputs": [],
   "source": [
    "db = MySQLdb.connect(host = \"localhost\", user = \"debian-sys-maint\",\n",
    "                     passwd = \"CEMj8ptYHraxNxFt\", db = \"financial\", charset = \"utf8\")\n",
    "\n",
    "cursor = db.cursor()"
   ]
  },
  {
   "cell_type": "code",
   "execution_count": 5,
   "id": "4f045414",
   "metadata": {},
   "outputs": [
    {
     "name": "stderr",
     "output_type": "stream",
     "text": [
      "100%|██████████| 66/66 [00:07<00:00,  8.94it/s]\n"
     ]
    }
   ],
   "source": [
    "for i in trange(len(df)):\n",
    "    cursor.execute(\"INSERT INTO calender (stockNum, stockName, Date, Time, Form)\"\n",
    "                   \" VALUES (%s, %s, %s, %s, %s);\", (df[\"Co_ID\"][i], df[\"Co_name\"][i], df[\"Date\"][i], df[\"Time\"][i], df[\"Form\"][i]))\n",
    "    db.commit()\n",
    "\n",
    "db.close()"
   ]
  },
  {
   "cell_type": "code",
   "execution_count": 12,
   "id": "a2cdcc3c",
   "metadata": {},
   "outputs": [
    {
     "ename": "OperationalError",
     "evalue": "(2006, '')",
     "output_type": "error",
     "traceback": [
      "\u001b[0;31m---------------------------------------------------------------------------\u001b[0m",
      "\u001b[0;31mOperationalError\u001b[0m                          Traceback (most recent call last)",
      "Input \u001b[0;32mIn [12]\u001b[0m, in \u001b[0;36m<module>\u001b[0;34m\u001b[0m\n\u001b[0;32m----> 1\u001b[0m \u001b[43mdb\u001b[49m\u001b[38;5;241;43m.\u001b[39;49m\u001b[43mclose\u001b[49m\u001b[43m(\u001b[49m\u001b[43m)\u001b[49m\n",
      "\u001b[0;31mOperationalError\u001b[0m: (2006, '')"
     ]
    }
   ],
   "source": [
    "db.close()"
   ]
  }
 ],
 "metadata": {
  "kernelspec": {
   "display_name": "Python 3 (ipykernel)",
   "language": "python",
   "name": "python3"
  },
  "language_info": {
   "codemirror_mode": {
    "name": "ipython",
    "version": 3
   },
   "file_extension": ".py",
   "mimetype": "text/x-python",
   "name": "python",
   "nbconvert_exporter": "python",
   "pygments_lexer": "ipython3",
   "version": "3.8.10"
  },
  "vscode": {
   "interpreter": {
    "hash": "916dbcbb3f70747c44a77c7bcd40155683ae19c65e1c03b4aa3499c5328201f1"
   }
  }
 },
 "nbformat": 4,
 "nbformat_minor": 5
}
