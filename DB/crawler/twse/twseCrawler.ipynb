{
 "cells": [
  {
   "cell_type": "code",
   "execution_count": 1,
   "metadata": {},
   "outputs": [],
   "source": [
    "import requests\n",
    "from bs4 import BeautifulSoup\n",
    "from selenium import webdriver"
   ]
  },
  {
   "cell_type": "code",
   "execution_count": 3,
   "metadata": {},
   "outputs": [
    {
     "name": "stderr",
     "output_type": "stream",
     "text": [
      "/tmp/ipykernel_1356142/3466608402.py:4: DeprecationWarning: executable_path has been deprecated, please pass in a Service object\n",
      "  driver = webdriver.Chrome(chrome_options = options, executable_path = \"/home/cosbi/financialSite/DB/crawler/twse/chromedriver\")\n",
      "/tmp/ipykernel_1356142/3466608402.py:4: DeprecationWarning: use options instead of chrome_options\n",
      "  driver = webdriver.Chrome(chrome_options = options, executable_path = \"/home/cosbi/financialSite/DB/crawler/twse/chromedriver\")\n"
     ]
    },
    {
     "ename": "SessionNotCreatedException",
     "evalue": "Message: session not created: This version of ChromeDriver only supports Chrome version 100\nCurrent browser version is 102.0.5005.61 with binary path /usr/bin/google-chrome\nStacktrace:\n#0 0x55ccf8c7dad3 <unknown>\n#1 0x55ccf89dd568 <unknown>\n#2 0x55ccf8a046b5 <unknown>\n#3 0x55ccf89ffe54 <unknown>\n#4 0x55ccf89fc23a <unknown>\n#5 0x55ccf8a372ba <unknown>\n#6 0x55ccf8a314e3 <unknown>\n#7 0x55ccf8a06d1a <unknown>\n#8 0x55ccf8a07e75 <unknown>\n#9 0x55ccf8cabefd <unknown>\n#10 0x55ccf8cc519b <unknown>\n#11 0x55ccf8cadc65 <unknown>\n#12 0x55ccf8cc5ec8 <unknown>\n#13 0x55ccf8ca1360 <unknown>\n#14 0x55ccf8ce1a68 <unknown>\n#15 0x55ccf8ce1be8 <unknown>\n#16 0x55ccf8cfb7fd <unknown>\n#17 0x7fdee3d1a609 <unknown>\n",
     "output_type": "error",
     "traceback": [
      "\u001b[0;31m---------------------------------------------------------------------------\u001b[0m",
      "\u001b[0;31mSessionNotCreatedException\u001b[0m                Traceback (most recent call last)",
      "\u001b[1;32m/home/cosbi/financialSite/DB/crawler/twse/twseCrawler.ipynb Cell 2'\u001b[0m in \u001b[0;36m<module>\u001b[0;34m\u001b[0m\n\u001b[1;32m      <a href='vscode-notebook-cell://ssh-remote%2B140.116.214.154/home/cosbi/financialSite/DB/crawler/twse/twseCrawler.ipynb#ch0000001vscode-remote?line=0'>1</a>\u001b[0m options \u001b[39m=\u001b[39m webdriver\u001b[39m.\u001b[39mChromeOptions()\n\u001b[1;32m      <a href='vscode-notebook-cell://ssh-remote%2B140.116.214.154/home/cosbi/financialSite/DB/crawler/twse/twseCrawler.ipynb#ch0000001vscode-remote?line=1'>2</a>\u001b[0m options\u001b[39m.\u001b[39madd_argument(\u001b[39m'\u001b[39m\u001b[39m--headless\u001b[39m\u001b[39m'\u001b[39m)\n\u001b[0;32m----> <a href='vscode-notebook-cell://ssh-remote%2B140.116.214.154/home/cosbi/financialSite/DB/crawler/twse/twseCrawler.ipynb#ch0000001vscode-remote?line=3'>4</a>\u001b[0m driver \u001b[39m=\u001b[39m webdriver\u001b[39m.\u001b[39;49mChrome(chrome_options \u001b[39m=\u001b[39;49m options, executable_path \u001b[39m=\u001b[39;49m \u001b[39m\"\u001b[39;49m\u001b[39m/home/cosbi/financialSite/DB/crawler/twse/chromedriver\u001b[39;49m\u001b[39m\"\u001b[39;49m)\n",
      "File \u001b[0;32m~/.local/lib/python3.8/site-packages/selenium/webdriver/chrome/webdriver.py:70\u001b[0m, in \u001b[0;36mWebDriver.__init__\u001b[0;34m(self, executable_path, port, options, service_args, desired_capabilities, service_log_path, chrome_options, service, keep_alive)\u001b[0m\n\u001b[1;32m     <a href='file:///home/cosbi/.local/lib/python3.8/site-packages/selenium/webdriver/chrome/webdriver.py?line=66'>67</a>\u001b[0m \u001b[39mif\u001b[39;00m \u001b[39mnot\u001b[39;00m service:\n\u001b[1;32m     <a href='file:///home/cosbi/.local/lib/python3.8/site-packages/selenium/webdriver/chrome/webdriver.py?line=67'>68</a>\u001b[0m     service \u001b[39m=\u001b[39m Service(executable_path, port, service_args, service_log_path)\n\u001b[0;32m---> <a href='file:///home/cosbi/.local/lib/python3.8/site-packages/selenium/webdriver/chrome/webdriver.py?line=69'>70</a>\u001b[0m \u001b[39msuper\u001b[39;49m(WebDriver, \u001b[39mself\u001b[39;49m)\u001b[39m.\u001b[39;49m\u001b[39m__init__\u001b[39;49m(DesiredCapabilities\u001b[39m.\u001b[39;49mCHROME[\u001b[39m'\u001b[39;49m\u001b[39mbrowserName\u001b[39;49m\u001b[39m'\u001b[39;49m], \u001b[39m\"\u001b[39;49m\u001b[39mgoog\u001b[39;49m\u001b[39m\"\u001b[39;49m,\n\u001b[1;32m     <a href='file:///home/cosbi/.local/lib/python3.8/site-packages/selenium/webdriver/chrome/webdriver.py?line=70'>71</a>\u001b[0m                                 port, options,\n\u001b[1;32m     <a href='file:///home/cosbi/.local/lib/python3.8/site-packages/selenium/webdriver/chrome/webdriver.py?line=71'>72</a>\u001b[0m                                 service_args, desired_capabilities,\n\u001b[1;32m     <a href='file:///home/cosbi/.local/lib/python3.8/site-packages/selenium/webdriver/chrome/webdriver.py?line=72'>73</a>\u001b[0m                                 service_log_path, service, keep_alive)\n",
      "File \u001b[0;32m~/.local/lib/python3.8/site-packages/selenium/webdriver/chromium/webdriver.py:93\u001b[0m, in \u001b[0;36mChromiumDriver.__init__\u001b[0;34m(self, browser_name, vendor_prefix, port, options, service_args, desired_capabilities, service_log_path, service, keep_alive)\u001b[0m\n\u001b[1;32m     <a href='file:///home/cosbi/.local/lib/python3.8/site-packages/selenium/webdriver/chromium/webdriver.py?line=89'>90</a>\u001b[0m \u001b[39mself\u001b[39m\u001b[39m.\u001b[39mservice\u001b[39m.\u001b[39mstart()\n\u001b[1;32m     <a href='file:///home/cosbi/.local/lib/python3.8/site-packages/selenium/webdriver/chromium/webdriver.py?line=91'>92</a>\u001b[0m \u001b[39mtry\u001b[39;00m:\n\u001b[0;32m---> <a href='file:///home/cosbi/.local/lib/python3.8/site-packages/selenium/webdriver/chromium/webdriver.py?line=92'>93</a>\u001b[0m     RemoteWebDriver\u001b[39m.\u001b[39;49m\u001b[39m__init__\u001b[39;49m(\n\u001b[1;32m     <a href='file:///home/cosbi/.local/lib/python3.8/site-packages/selenium/webdriver/chromium/webdriver.py?line=93'>94</a>\u001b[0m         \u001b[39mself\u001b[39;49m,\n\u001b[1;32m     <a href='file:///home/cosbi/.local/lib/python3.8/site-packages/selenium/webdriver/chromium/webdriver.py?line=94'>95</a>\u001b[0m         command_executor\u001b[39m=\u001b[39;49mChromiumRemoteConnection(\n\u001b[1;32m     <a href='file:///home/cosbi/.local/lib/python3.8/site-packages/selenium/webdriver/chromium/webdriver.py?line=95'>96</a>\u001b[0m             remote_server_addr\u001b[39m=\u001b[39;49m\u001b[39mself\u001b[39;49m\u001b[39m.\u001b[39;49mservice\u001b[39m.\u001b[39;49mservice_url,\n\u001b[1;32m     <a href='file:///home/cosbi/.local/lib/python3.8/site-packages/selenium/webdriver/chromium/webdriver.py?line=96'>97</a>\u001b[0m             browser_name\u001b[39m=\u001b[39;49mbrowser_name, vendor_prefix\u001b[39m=\u001b[39;49mvendor_prefix,\n\u001b[1;32m     <a href='file:///home/cosbi/.local/lib/python3.8/site-packages/selenium/webdriver/chromium/webdriver.py?line=97'>98</a>\u001b[0m             keep_alive\u001b[39m=\u001b[39;49mkeep_alive, ignore_proxy\u001b[39m=\u001b[39;49m_ignore_proxy),\n\u001b[1;32m     <a href='file:///home/cosbi/.local/lib/python3.8/site-packages/selenium/webdriver/chromium/webdriver.py?line=98'>99</a>\u001b[0m         options\u001b[39m=\u001b[39;49moptions)\n\u001b[1;32m    <a href='file:///home/cosbi/.local/lib/python3.8/site-packages/selenium/webdriver/chromium/webdriver.py?line=99'>100</a>\u001b[0m \u001b[39mexcept\u001b[39;00m \u001b[39mException\u001b[39;00m:\n\u001b[1;32m    <a href='file:///home/cosbi/.local/lib/python3.8/site-packages/selenium/webdriver/chromium/webdriver.py?line=100'>101</a>\u001b[0m     \u001b[39mself\u001b[39m\u001b[39m.\u001b[39mquit()\n",
      "File \u001b[0;32m~/.local/lib/python3.8/site-packages/selenium/webdriver/remote/webdriver.py:268\u001b[0m, in \u001b[0;36mWebDriver.__init__\u001b[0;34m(self, command_executor, desired_capabilities, browser_profile, proxy, keep_alive, file_detector, options)\u001b[0m\n\u001b[1;32m    <a href='file:///home/cosbi/.local/lib/python3.8/site-packages/selenium/webdriver/remote/webdriver.py?line=265'>266</a>\u001b[0m \u001b[39mself\u001b[39m\u001b[39m.\u001b[39mfile_detector \u001b[39m=\u001b[39m file_detector \u001b[39mor\u001b[39;00m LocalFileDetector()\n\u001b[1;32m    <a href='file:///home/cosbi/.local/lib/python3.8/site-packages/selenium/webdriver/remote/webdriver.py?line=266'>267</a>\u001b[0m \u001b[39mself\u001b[39m\u001b[39m.\u001b[39mstart_client()\n\u001b[0;32m--> <a href='file:///home/cosbi/.local/lib/python3.8/site-packages/selenium/webdriver/remote/webdriver.py?line=267'>268</a>\u001b[0m \u001b[39mself\u001b[39;49m\u001b[39m.\u001b[39;49mstart_session(capabilities, browser_profile)\n",
      "File \u001b[0;32m~/.local/lib/python3.8/site-packages/selenium/webdriver/remote/webdriver.py:359\u001b[0m, in \u001b[0;36mWebDriver.start_session\u001b[0;34m(self, capabilities, browser_profile)\u001b[0m\n\u001b[1;32m    <a href='file:///home/cosbi/.local/lib/python3.8/site-packages/selenium/webdriver/remote/webdriver.py?line=355'>356</a>\u001b[0m w3c_caps \u001b[39m=\u001b[39m _make_w3c_caps(capabilities)\n\u001b[1;32m    <a href='file:///home/cosbi/.local/lib/python3.8/site-packages/selenium/webdriver/remote/webdriver.py?line=356'>357</a>\u001b[0m parameters \u001b[39m=\u001b[39m {\u001b[39m\"\u001b[39m\u001b[39mcapabilities\u001b[39m\u001b[39m\"\u001b[39m: w3c_caps,\n\u001b[1;32m    <a href='file:///home/cosbi/.local/lib/python3.8/site-packages/selenium/webdriver/remote/webdriver.py?line=357'>358</a>\u001b[0m               \u001b[39m\"\u001b[39m\u001b[39mdesiredCapabilities\u001b[39m\u001b[39m\"\u001b[39m: capabilities}\n\u001b[0;32m--> <a href='file:///home/cosbi/.local/lib/python3.8/site-packages/selenium/webdriver/remote/webdriver.py?line=358'>359</a>\u001b[0m response \u001b[39m=\u001b[39m \u001b[39mself\u001b[39;49m\u001b[39m.\u001b[39;49mexecute(Command\u001b[39m.\u001b[39;49mNEW_SESSION, parameters)\n\u001b[1;32m    <a href='file:///home/cosbi/.local/lib/python3.8/site-packages/selenium/webdriver/remote/webdriver.py?line=359'>360</a>\u001b[0m \u001b[39mif\u001b[39;00m \u001b[39m'\u001b[39m\u001b[39msessionId\u001b[39m\u001b[39m'\u001b[39m \u001b[39mnot\u001b[39;00m \u001b[39min\u001b[39;00m response:\n\u001b[1;32m    <a href='file:///home/cosbi/.local/lib/python3.8/site-packages/selenium/webdriver/remote/webdriver.py?line=360'>361</a>\u001b[0m     response \u001b[39m=\u001b[39m response[\u001b[39m'\u001b[39m\u001b[39mvalue\u001b[39m\u001b[39m'\u001b[39m]\n",
      "File \u001b[0;32m~/.local/lib/python3.8/site-packages/selenium/webdriver/remote/webdriver.py:424\u001b[0m, in \u001b[0;36mWebDriver.execute\u001b[0;34m(self, driver_command, params)\u001b[0m\n\u001b[1;32m    <a href='file:///home/cosbi/.local/lib/python3.8/site-packages/selenium/webdriver/remote/webdriver.py?line=421'>422</a>\u001b[0m response \u001b[39m=\u001b[39m \u001b[39mself\u001b[39m\u001b[39m.\u001b[39mcommand_executor\u001b[39m.\u001b[39mexecute(driver_command, params)\n\u001b[1;32m    <a href='file:///home/cosbi/.local/lib/python3.8/site-packages/selenium/webdriver/remote/webdriver.py?line=422'>423</a>\u001b[0m \u001b[39mif\u001b[39;00m response:\n\u001b[0;32m--> <a href='file:///home/cosbi/.local/lib/python3.8/site-packages/selenium/webdriver/remote/webdriver.py?line=423'>424</a>\u001b[0m     \u001b[39mself\u001b[39;49m\u001b[39m.\u001b[39;49merror_handler\u001b[39m.\u001b[39;49mcheck_response(response)\n\u001b[1;32m    <a href='file:///home/cosbi/.local/lib/python3.8/site-packages/selenium/webdriver/remote/webdriver.py?line=424'>425</a>\u001b[0m     response[\u001b[39m'\u001b[39m\u001b[39mvalue\u001b[39m\u001b[39m'\u001b[39m] \u001b[39m=\u001b[39m \u001b[39mself\u001b[39m\u001b[39m.\u001b[39m_unwrap_value(\n\u001b[1;32m    <a href='file:///home/cosbi/.local/lib/python3.8/site-packages/selenium/webdriver/remote/webdriver.py?line=425'>426</a>\u001b[0m         response\u001b[39m.\u001b[39mget(\u001b[39m'\u001b[39m\u001b[39mvalue\u001b[39m\u001b[39m'\u001b[39m, \u001b[39mNone\u001b[39;00m))\n\u001b[1;32m    <a href='file:///home/cosbi/.local/lib/python3.8/site-packages/selenium/webdriver/remote/webdriver.py?line=426'>427</a>\u001b[0m     \u001b[39mreturn\u001b[39;00m response\n",
      "File \u001b[0;32m~/.local/lib/python3.8/site-packages/selenium/webdriver/remote/errorhandler.py:247\u001b[0m, in \u001b[0;36mErrorHandler.check_response\u001b[0;34m(self, response)\u001b[0m\n\u001b[1;32m    <a href='file:///home/cosbi/.local/lib/python3.8/site-packages/selenium/webdriver/remote/errorhandler.py?line=244'>245</a>\u001b[0m         alert_text \u001b[39m=\u001b[39m value[\u001b[39m'\u001b[39m\u001b[39malert\u001b[39m\u001b[39m'\u001b[39m]\u001b[39m.\u001b[39mget(\u001b[39m'\u001b[39m\u001b[39mtext\u001b[39m\u001b[39m'\u001b[39m)\n\u001b[1;32m    <a href='file:///home/cosbi/.local/lib/python3.8/site-packages/selenium/webdriver/remote/errorhandler.py?line=245'>246</a>\u001b[0m     \u001b[39mraise\u001b[39;00m exception_class(message, screen, stacktrace, alert_text)  \u001b[39m# type: ignore[call-arg]  # mypy is not smart enough here\u001b[39;00m\n\u001b[0;32m--> <a href='file:///home/cosbi/.local/lib/python3.8/site-packages/selenium/webdriver/remote/errorhandler.py?line=246'>247</a>\u001b[0m \u001b[39mraise\u001b[39;00m exception_class(message, screen, stacktrace)\n",
      "\u001b[0;31mSessionNotCreatedException\u001b[0m: Message: session not created: This version of ChromeDriver only supports Chrome version 100\nCurrent browser version is 102.0.5005.61 with binary path /usr/bin/google-chrome\nStacktrace:\n#0 0x55ccf8c7dad3 <unknown>\n#1 0x55ccf89dd568 <unknown>\n#2 0x55ccf8a046b5 <unknown>\n#3 0x55ccf89ffe54 <unknown>\n#4 0x55ccf89fc23a <unknown>\n#5 0x55ccf8a372ba <unknown>\n#6 0x55ccf8a314e3 <unknown>\n#7 0x55ccf8a06d1a <unknown>\n#8 0x55ccf8a07e75 <unknown>\n#9 0x55ccf8cabefd <unknown>\n#10 0x55ccf8cc519b <unknown>\n#11 0x55ccf8cadc65 <unknown>\n#12 0x55ccf8cc5ec8 <unknown>\n#13 0x55ccf8ca1360 <unknown>\n#14 0x55ccf8ce1a68 <unknown>\n#15 0x55ccf8ce1be8 <unknown>\n#16 0x55ccf8cfb7fd <unknown>\n#17 0x7fdee3d1a609 <unknown>\n"
     ]
    }
   ],
   "source": [
    "options = webdriver.ChromeOptions()\n",
    "options.add_argument('--headless')\n",
    "\n",
    "driver = webdriver.Chrome(chrome_options = options, executable_path = \"/home/cosbi/financialSite/DB/crawler/twse/chromedriver\")"
   ]
  }
 ],
 "metadata": {
  "interpreter": {
   "hash": "916dbcbb3f70747c44a77c7bcd40155683ae19c65e1c03b4aa3499c5328201f1"
  },
  "kernelspec": {
   "display_name": "Python 3.8.10 64-bit",
   "language": "python",
   "name": "python3"
  },
  "language_info": {
   "codemirror_mode": {
    "name": "ipython",
    "version": 3
   },
   "file_extension": ".py",
   "mimetype": "text/x-python",
   "name": "python",
   "nbconvert_exporter": "python",
   "pygments_lexer": "ipython3",
   "version": "3.8.10"
  },
  "orig_nbformat": 4
 },
 "nbformat": 4,
 "nbformat_minor": 2
}
