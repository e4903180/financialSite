{
 "cells": [
  {
   "cell_type": "code",
   "execution_count": 1,
   "id": "ff6651e9",
   "metadata": {},
   "outputs": [],
   "source": [
    "import getGmail_Class\n",
    "import os, sys, logging\n",
    "from tqdm import trange\n",
    "from datetime import datetime\n",
    "import pandas as pd\n",
    "import re"
   ]
  },
  {
   "cell_type": "code",
   "execution_count": 2,
   "id": "6755a883",
   "metadata": {},
   "outputs": [],
   "source": [
    "gGC = getGmail_Class.gmailService()"
   ]
  },
  {
   "cell_type": "code",
   "execution_count": 3,
   "id": "3f1175ad",
   "metadata": {
    "scrolled": true
   },
   "outputs": [
    {
     "name": "stderr",
     "output_type": "stream",
     "text": [
      "100%|██████████| 4/4 [00:04<00:00,  1.14s/it]\n"
     ]
    }
   ],
   "source": [
    "Num, Name, investment_company, Date, Filename, ID, Recommend = [[] for i in range(7)]\n",
    "\n",
    "FORMAT = '%(asctime)s %(levelname)s: %(message)s'\n",
    "logging.basicConfig(level = logging.INFO, filename = \"/home/cosbi/桌面/financialData/gmailData/log/\" + datetime.now().strftime(\"%Y_%m_%d\") + '.log', filemode = 'w', format = FORMAT)\n",
    "logging.info('Updating email start')\n",
    "\n",
    "# request a list of all the messages\n",
    "result = gGC.service.users().messages().list(userId = 'me', maxResults = 500, labelIds = [\"INBOX\"]).execute()\n",
    "messages = result.get('messages')\n",
    "\n",
    "if messages == None:\n",
    "    logging.info('Inbox quantity is 0')\n",
    "    logging.info('Updating email end')\n",
    "    sys.exit(0)\n",
    "\n",
    "# get mail ID from messages\n",
    "for i in range(len(messages)):\n",
    "    ID.append(messages[i]['id'])\n",
    "\n",
    "# iterate through all the messages\n",
    "for i in trange(len(ID)):\n",
    "    # Get the message from its id\n",
    "    txt = gGC.service.users().messages().get(userId = 'me', id = ID[i]).execute()\n",
    "    payload = txt['payload']\n",
    "    headers = payload['headers']\n",
    "    date = gGC.getDate(headers)\n",
    "    subject = gGC.getSubject(headers)\n",
    "    stock_num = gGC.verifySubject(subject)\n",
    "\n",
    "    if len(stock_num) != 0:\n",
    "        tempNum, tempName, tempInvestment_company, tempFilename, tempRecommend = gGC.getResearch_report(subject, stock_num, payload, ID[i], date)\n",
    "        \n",
    "        if len(tempNum) != 0:\n",
    "            for j in range(len(tempNum)):\n",
    "                Num.append(tempNum[j])\n",
    "                Name.append(tempName[j])\n",
    "                Date.append(date)\n",
    "                investment_company.append(tempInvestment_company)\n",
    "                Filename.append(tempFilename[j])\n",
    "                Recommend.append(tempRecommend[j])\n",
    "                \n",
    "        # Modify labels\n",
    "        gGC.modifyLabels(ID[i], \"Label2\")\n",
    "    else:\n",
    "        # Modify labels\n",
    "        gGC.modifyLabels(ID[i], \"Label3\")\n",
    "\n",
    "df = pd.DataFrame({ \"Number\" : Num, \"Name\" : Name, \"Investment company\" : investment_company, \"Date\" : Date, \"Filename\" : Filename, \"Recommend\" : Recommend })\n",
    "\n",
    "logging.info('Updating email end')"
   ]
  },
  {
   "cell_type": "code",
   "execution_count": 4,
   "id": "87478d27",
   "metadata": {},
   "outputs": [],
   "source": [
    "csvName = datetime.now().strftime(\"%Y_%m_%d\") + \".csv\"\n",
    "df.to_csv(\"/home/cosbi/桌面/financialData/gmailData/dataFrame/\" + csvName, index = False)"
   ]
  }
 ],
 "metadata": {
  "kernelspec": {
   "display_name": "Python 3.8.10 64-bit",
   "language": "python",
   "name": "python3"
  },
  "language_info": {
   "codemirror_mode": {
    "name": "ipython",
    "version": 3
   },
   "file_extension": ".py",
   "mimetype": "text/x-python",
   "name": "python",
   "nbconvert_exporter": "python",
   "pygments_lexer": "ipython3",
   "version": "3.8.10"
  },
  "vscode": {
   "interpreter": {
    "hash": "916dbcbb3f70747c44a77c7bcd40155683ae19c65e1c03b4aa3499c5328201f1"
   }
  }
 },
 "nbformat": 4,
 "nbformat_minor": 5
}
