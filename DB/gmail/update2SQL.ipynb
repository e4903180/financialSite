{
 "cells": [
  {
   "cell_type": "code",
   "execution_count": 1,
   "id": "751c7546",
   "metadata": {},
   "outputs": [],
   "source": [
    "import MySQLdb\n",
    "import pandas as pd\n",
    "from datetime import datetime\n",
    "import os, sys, logging\n",
    "from tqdm import trange"
   ]
  },
  {
   "cell_type": "code",
   "execution_count": 3,
   "id": "e819ee7d",
   "metadata": {},
   "outputs": [],
   "source": [
    "FORMAT = '%(asctime)s %(levelname)s: %(message)s'\n",
    "logging.basicConfig(level = logging.INFO, filename = \"/home/cosbi/桌面/financialData/gmailData/log/\" + datetime.now().strftime(\"%Y_%m_%d\") + '_SQL.log', filemode = 'w', format = FORMAT)\n",
    "logging.info('Updating gmail data to sql')"
   ]
  },
  {
   "cell_type": "code",
   "execution_count": null,
   "id": "4d330c7d",
   "metadata": {},
   "outputs": [],
   "source": [
    "df = pd.read_csv(\"/home/cosbi/桌面/financialData/gmailData/dataFrame/2022_05_18.csv\")\n",
    "df = df.fillna(\"NULL\")\n",
    "df.drop_duplicates(inplace = True)\n",
    "df.reset_index(drop = True, inplace = True) "
   ]
  },
  {
   "cell_type": "code",
   "execution_count": 3,
   "id": "aab839f3",
   "metadata": {},
   "outputs": [
    {
     "name": "stderr",
     "output_type": "stream",
     "text": [
      "100%|█████████████████████████████████████████| 914/914 [01:52<00:00,  8.11it/s]\n"
     ]
    }
   ],
   "source": [
    "try:\n",
    "    csvName = datetime.now().strftime(\"%Y_%m_%d\") + \".csv\"\n",
    "    df = pd.read_csv(\"/home/cosbi/桌面/financialData/gmailData/dataFrame/\" + csvName)\n",
    "    df = df.fillna(\"\")\n",
    "    df.drop_duplicates(inplace = True)\n",
    "    df.reset_index(drop = True, inplace = True)\n",
    "    \n",
    "    db = MySQLdb.connect(host = \"localhost\", user = \"debian-sys-maint\",\n",
    "                     passwd = \"CEMj8ptYHraxNxFt\", db = \"financial\", charset = \"utf8\")\n",
    "\n",
    "    cursor = db.cursor()\n",
    "\n",
    "    for i in trange(len(df)):\n",
    "        cursor.execute('INSERT INTO financialData (stockNum, stockName, date, investmentCompany, filePath, recommend) '\n",
    "                'VALUES (%s, %s, %s, %s, %s, %s);', (str(df.iloc[i][\"Number\"]), df.iloc[i][\"Name\"], df.iloc[i][\"Date\"], df.iloc[i][\"Investment company\"], df.iloc[i][\"File path\"], df.iloc[i][\"Recommend\"]))\n",
    "        db.commit()\n",
    "\n",
    "    db.close()\n",
    "    logging.info('Updating complete')\n",
    "except Exception as e:\n",
    "    logging.info(e)"
   ]
  }
 ],
 "metadata": {
  "kernelspec": {
   "display_name": "Python 3 (ipykernel)",
   "language": "python",
   "name": "python3"
  },
  "language_info": {
   "codemirror_mode": {
    "name": "ipython",
    "version": 3
   },
   "file_extension": ".py",
   "mimetype": "text/x-python",
   "name": "python",
   "nbconvert_exporter": "python",
   "pygments_lexer": "ipython3",
   "version": "3.8.10"
  },
  "vscode": {
   "interpreter": {
    "hash": "916dbcbb3f70747c44a77c7bcd40155683ae19c65e1c03b4aa3499c5328201f1"
   }
  }
 },
 "nbformat": 4,
 "nbformat_minor": 5
}
