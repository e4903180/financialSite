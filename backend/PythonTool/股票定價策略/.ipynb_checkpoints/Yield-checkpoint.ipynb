{
 "cells": [
  {
   "cell_type": "code",
   "execution_count": 1,
   "id": "21e82669",
   "metadata": {},
   "outputs": [],
   "source": [
    "import pandas as pd\n",
    "import time\n",
    "import seaborn as sns\n",
    "import matplotlib.pyplot as plt\n",
    "import sys\n",
    "import json\n",
    "\n",
    "from bs4 import BeautifulSoup\n",
    "from selenium import webdriver\n",
    "from selenium.webdriver.chrome.service import Service\n",
    "from webdriver_manager.chrome import ChromeDriverManager\n",
    "from selenium.webdriver.support.select import Select\n",
    "from selenium.webdriver.common.by import By"
   ]
  },
  {
   "cell_type": "code",
   "execution_count": 3,
   "id": "8eb28614",
   "metadata": {
    "scrolled": true
   },
   "outputs": [
    {
     "name": "stderr",
     "output_type": "stream",
     "text": [
      "\n",
      "\n",
      "====== WebDriver manager ======\n",
      "Current google-chrome version is 105.0.5195\n",
      "Get LATEST chromedriver version for 105.0.5195 google-chrome\n",
      "Driver [/home/cosbi/.wdm/drivers/chromedriver/linux64/105.0.5195.52/chromedriver] found in cache\n"
     ]
    }
   ],
   "source": [
    "options = webdriver.ChromeOptions()\n",
    "options.add_argument(\"--disable-notifications\")\n",
    "options.add_argument(\"headless\")\n",
    "s = Service(ChromeDriverManager().install())\n",
    "chrome = webdriver.Chrome(options = options,service = s)"
   ]
  },
  {
   "cell_type": "code",
   "execution_count": 4,
   "id": "bbd1001e",
   "metadata": {},
   "outputs": [],
   "source": [
    "chrome.get(\"https://goodinfo.tw/tw/StockDividendPolicy.asp?STOCK_ID=%s\" % (sys.argv[1]))"
   ]
  },
  {
   "cell_type": "code",
   "execution_count": 57,
   "id": "64fe4f10",
   "metadata": {},
   "outputs": [],
   "source": [
    "yield_form = chrome.find_element(by = By.ID, value = 'divDetail')\n",
    "df1 = pd.read_html(yield_form.get_attribute('innerHTML'))[0]\n",
    "df1.drop([x for x in range(16, 20)], inplace = True)\n",
    "df1.reset_index(drop = True, inplace = True)\n",
    "df1.replace(\"-\", 0, inplace = True)\n",
    "df1 = df1.loc[:, ('殖 利 率 統 計', '殖 利 率 統 計', '年均殖利率(%)', '合計')].astype(float).fillna(0)"
   ]
  },
  {
   "cell_type": "code",
   "execution_count": null,
   "id": "25a0c45e",
   "metadata": {},
   "outputs": [],
   "source": [
    "result = {\n",
    "    \"NewYield\" : round(df1[0], 2),\n",
    "    \"AverageYield\" : round(df1[0:10].mean(), 2)\n",
    "}\n",
    "\n",
    "json = json.dumps(result)\n",
    "\n",
    "print(json)\n",
    "sys.stdout.flush()"
   ]
  }
 ],
 "metadata": {
  "kernelspec": {
   "display_name": "Python 3 (ipykernel)",
   "language": "python",
   "name": "python3"
  },
  "language_info": {
   "codemirror_mode": {
    "name": "ipython",
    "version": 3
   },
   "file_extension": ".py",
   "mimetype": "text/x-python",
   "name": "python",
   "nbconvert_exporter": "python",
   "pygments_lexer": "ipython3",
   "version": "3.8.10"
  }
 },
 "nbformat": 4,
 "nbformat_minor": 5
}
