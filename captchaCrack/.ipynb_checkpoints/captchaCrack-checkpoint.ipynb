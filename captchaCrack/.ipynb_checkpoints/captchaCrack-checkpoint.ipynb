{
 "cells": [
  {
   "cell_type": "code",
   "execution_count": 1,
   "id": "438cb370",
   "metadata": {},
   "outputs": [],
   "source": [
    "# from captcha_bypass import solve_captcha\n",
    "from selenium import webdriver\n",
    "from selenium.webdriver.common.by import By\n",
    "import os\n",
    "import requests\n",
    "from bs4 import BeautifulSoup"
   ]
  },
  {
   "cell_type": "markdown",
   "id": "54433055",
   "metadata": {},
   "source": [
    "# selenium"
   ]
  },
  {
   "cell_type": "code",
   "execution_count": 2,
   "id": "46d82eea",
   "metadata": {
    "scrolled": true
   },
   "outputs": [],
   "source": [
    "# Selenium browser setup\n",
    "options = webdriver.ChromeOptions()\n",
    "\n",
    "\n",
    "# 不用打開圖形介面，開發前期先不加才看的到畫面\n",
    "options.add_argument(\"--headless\")\n",
    "\n",
    "# 以最高權限運行\n",
    "options.add_argument(\"--no-sandbox\")\n",
    "options.add_argument(\"--disable-dev-shm-usage\")\n",
    "\n",
    "browser = webdriver.Chrome(options=options)"
   ]
  },
  {
   "cell_type": "code",
   "execution_count": 3,
   "id": "e5d6c6aa",
   "metadata": {},
   "outputs": [],
   "source": [
    "url ='https://bsr.twse.com.tw/bshtm/?fbclid=IwAR1_4JOHGSQW3VJW9X8RdinQ4rWthU6ZMvic7ZSSyMXXIginPRZByuc5PQ4'\n",
    "browser.get(url)"
   ]
  },
  {
   "cell_type": "code",
   "execution_count": 6,
   "id": "2f8a2311",
   "metadata": {},
   "outputs": [],
   "source": [
    "img = browser.find_elements(by = By.TAG_NAME, value = 'img')"
   ]
  },
  {
   "cell_type": "code",
   "execution_count": 7,
   "id": "64aff003",
   "metadata": {},
   "outputs": [
    {
     "data": {
      "text/plain": [
       "[]"
      ]
     },
     "execution_count": 7,
     "metadata": {},
     "output_type": "execute_result"
    }
   ],
   "source": [
    "img"
   ]
  },
  {
   "cell_type": "code",
   "execution_count": 6,
   "id": "9741f139",
   "metadata": {},
   "outputs": [],
   "source": [
    "browser.close()"
   ]
  },
  {
   "cell_type": "markdown",
   "id": "c23e644a",
   "metadata": {},
   "source": [
    "# requests"
   ]
  },
  {
   "cell_type": "code",
   "execution_count": 23,
   "id": "fc0546df",
   "metadata": {},
   "outputs": [],
   "source": [
    "response = requests.post(\"https://bsr.twse.com.tw/bshtm/?fbclid=IwAR1_4JOHGSQW3VJW9X8RdinQ4rWthU6ZMvic7ZSSyMXXIginPRZByuc5PQ4\")\n",
    "\n",
    "soup = BeautifulSoup(response.text, \"html.parser\")"
   ]
  },
  {
   "cell_type": "code",
   "execution_count": 24,
   "id": "1aa74b51",
   "metadata": {},
   "outputs": [
    {
     "data": {
      "text/plain": [
       "<!DOCTYPE html PUBLIC \"-//W3C//DTD XHTML 1.0 Strict//EN\" \"http://www.w3.org/TR/xhtml1/DTD/xhtml1-strict.dtd\">\n",
       "\n",
       "<html xmlns=\"http://www.w3.org/1999/xhtml\">\n",
       "<head>\n",
       "<meta content=\"text/html; charset=utf-8\" http-equiv=\"Content-Type\"/>\n",
       "<title>405 - ¤£¤¹³\\¥Î¨Ó¦s¨ú¦¹ºô­¶ªº HTTP «ü¥O°Êµü¡C</title>\n",
       "<style type=\"text/css\">\n",
       "<!--\n",
       "body{margin:0;font-size:.7em;font-family:Verdana, Arial, Helvetica, sans-serif;background:#EEEEEE;}\n",
       "fieldset{padding:0 15px 10px 15px;} \n",
       "h1{font-size:2.4em;margin:0;color:#FFF;}\n",
       "h2{font-size:1.7em;margin:0;color:#CC0000;} \n",
       "h3{font-size:1.2em;margin:10px 0 0 0;color:#000000;} \n",
       "#header{width:96%;margin:0 0 0 0;padding:6px 2% 6px 2%;font-family:\"trebuchet MS\", Verdana, sans-serif;color:#FFF;\n",
       "background-color:#555555;}\n",
       "#content{margin:0 0 0 2%;position:relative;}\n",
       ".content-container{background:#FFF;width:96%;margin-top:9px;padding:10px;position:relative;}\n",
       "-->\n",
       "</style>\n",
       "</head>\n",
       "<body>\n",
       "<div id=\"header\"><h1>¦øªA¾¹¿ù»~</h1></div>\n",
       "<div id=\"content\">\n",
       "<div class=\"content-container\"><fieldset>\n",
       "<h2>405 - ¤£¤¹³\\¥Î¨Ó¦s¨ú¦¹ºô­¶ªº HTTP «ü¥O°Êµü¡C</h2>\n",
       "<h3>µLªkÅã¥Ü±z­n´M§äªººô­¶¡A¦]¬°¨Ï¥Î¤FµL®Äªº¤èªk (HTTP «ü¥O°Êµü) ¹Á¸Õ¶i¦æ¦s¨ú¡C</h3>\n",
       "</fieldset></div>\n",
       "</div>\n",
       "</body>\n",
       "</html>"
      ]
     },
     "execution_count": 24,
     "metadata": {},
     "output_type": "execute_result"
    }
   ],
   "source": [
    "soup"
   ]
  },
  {
   "cell_type": "code",
   "execution_count": 21,
   "id": "c94922da",
   "metadata": {},
   "outputs": [],
   "source": [
    "img = soup.find_all(\"img\")"
   ]
  },
  {
   "cell_type": "code",
   "execution_count": 22,
   "id": "365eced6",
   "metadata": {},
   "outputs": [
    {
     "data": {
      "text/plain": [
       "[]"
      ]
     },
     "execution_count": 22,
     "metadata": {},
     "output_type": "execute_result"
    }
   ],
   "source": [
    "img"
   ]
  },
  {
   "cell_type": "code",
   "execution_count": null,
   "id": "46825f9f",
   "metadata": {},
   "outputs": [],
   "source": []
  }
 ],
 "metadata": {
  "kernelspec": {
   "display_name": "Python 3 (ipykernel)",
   "language": "python",
   "name": "python3"
  },
  "language_info": {
   "codemirror_mode": {
    "name": "ipython",
    "version": 3
   },
   "file_extension": ".py",
   "mimetype": "text/x-python",
   "name": "python",
   "nbconvert_exporter": "python",
   "pygments_lexer": "ipython3",
   "version": "3.8.5"
  }
 },
 "nbformat": 4,
 "nbformat_minor": 5
}
