{
 "cells": [
  {
   "cell_type": "code",
   "execution_count": 1,
   "metadata": {},
   "outputs": [],
   "source": [
    "import pandas as pd\n",
    "import time\n",
    "import seaborn as sns\n",
    "import matplotlib.pyplot as plt\n",
    "\n",
    "#使用selenium套件爬蟲\n",
    "from selenium import webdriver\n",
    "from selenium.webdriver.chrome.service import Service\n",
    "from webdriver_manager.chrome import ChromeDriverManager\n",
    "from selenium.webdriver.support.select import Select\n",
    "from selenium.webdriver.common.by import By"
   ]
  },
  {
   "cell_type": "markdown",
   "metadata": {},
   "source": [
    "# 決定股票"
   ]
  },
  {
   "cell_type": "markdown",
   "metadata": {},
   "source": [
    "輸入台灣股票代號， ex: 2886 、 1723 ...\n",
    "\n",
    "注意!ETF因為沒有PER、PBR等資訊，所以不可!"
   ]
  },
  {
   "cell_type": "code",
   "execution_count": 2,
   "metadata": {},
   "outputs": [
    {
     "name": "stdout",
     "output_type": "stream",
     "text": [
      "請輸入股票代號：2886\n",
      "下列估計法為股票代號 : 2886 的定價方法\n"
     ]
    }
   ],
   "source": [
    "stock = input('請輸入股票代號：') \n",
    "print('下列估計法為股票代號 :',stock,'的定價方法')"
   ]
  },
  {
   "cell_type": "markdown",
   "metadata": {},
   "source": [
    "# 爬蟲"
   ]
  },
  {
   "cell_type": "markdown",
   "metadata": {},
   "source": [
    "from: goodinfo"
   ]
  },
  {
   "cell_type": "code",
   "execution_count": 21,
   "metadata": {},
   "outputs": [
    {
     "name": "stderr",
     "output_type": "stream",
     "text": [
      "\n",
      "\n",
      "====== WebDriver manager ======\n",
      "Current google-chrome version is 104.0.5112\n",
      "Get LATEST chromedriver version for 104.0.5112 google-chrome\n",
      "Driver [/home/cosbi/.wdm/drivers/chromedriver/linux64/104.0.5112.79/chromedriver] found in cache\n"
     ]
    }
   ],
   "source": [
    "options = webdriver.ChromeOptions()\n",
    "options.add_argument(\"--disable-notifications\")\n",
    "options.add_argument(\"headless\")\n",
    "s = Service(ChromeDriverManager().install())\n",
    "chrome = webdriver.Chrome(options = options,service = s)\n",
    "\n",
    "chrome.get(\"https://goodinfo.tw/StockInfo/StockBzPerformance.asp?STOCK_ID=%s\"%(stock))"
   ]
  },
  {
   "cell_type": "code",
   "execution_count": 22,
   "metadata": {},
   "outputs": [
    {
     "name": "stdout",
     "output_type": "stream",
     "text": [
      "目前價格:35.6\n",
      "\n",
      "\n",
      "    股 利 政 策                                                              \\\n",
      "     股利發放年度  股東股利 (元/股)                                                   \n",
      "     股利發放年度        現金股利                                股票股利               \n",
      "     股利發放年度          盈餘          公積          合計          盈餘          公積   \n",
      "0      2022         1.4           0         1.4        0.25           0   \n",
      "1      2021        1.58           0        1.58           0           0   \n",
      "2      2020         1.7           0         1.7           0           0   \n",
      "3      2019         1.7           0         1.7           0           0   \n",
      "4      2018         1.5           0         1.5           0           0   \n",
      "5      2017        1.42           0        1.42           0           0   \n",
      "6      2016         1.5           0         1.5           0           0   \n",
      "7      2015         1.4           0         1.4           0           0   \n",
      "8      2014        1.11           0        1.11           0           0   \n",
      "9      2013         1.1           0         1.1           0           0   \n",
      "10     2012        0.85           0        0.85        0.15           0   \n",
      "11     2011         0.9           0         0.9         0.2           0   \n",
      "12     2010           1           0           1           0           0   \n",
      "13     2009        0.25           0        0.25           0           0   \n",
      "14     2008        1.25           0        1.25           0           0   \n",
      "15     2007         1.5           0         1.5           0           0   \n",
      "16  股 利 政 策     股 利 政 策     股 利 政 策     股 利 政 策     股 利 政 策     股 利 政 策   \n",
      "17   股利發放年度  股東股利 (元/股)  股東股利 (元/股)  股東股利 (元/股)  股東股利 (元/股)  股東股利 (元/股)   \n",
      "18   股利發放年度        現金股利        現金股利        現金股利        股票股利        股票股利   \n",
      "19   股利發放年度          盈餘          公積          合計          盈餘          公積   \n",
      "20     2006        1.55           0        1.55           0           0   \n",
      "21     2005        1.53           0        1.53           0           0   \n",
      "22     2004        1.54           0        1.54           0           0   \n",
      "23     2003         0.4           0         0.4         0.4           0   \n",
      "24     2002           0           0           0           0        1.04   \n",
      "25     2001           -           -           -           -           -   \n",
      "26     2000           -           -           -           -           -   \n",
      "27     1999           -           -           -           -           -   \n",
      "28     1998           -           -           -           -           -   \n",
      "29     1997           -           -           -           -           -   \n",
      "30     1996           -           -           -           -           -   \n",
      "31       累計        25.2           0        25.2           1        1.04   \n",
      "\n",
      "                                              ...  殖 利 率 統 計             \\\n",
      "                               股利總計           ...  殖 利 率 統 計              \n",
      "                      股利合計    現金(億)   股票(千張)  ...    股價統計(元)              \n",
      "            合計        股利合計    現金(億)   股票(千張)  ...         最低         年均   \n",
      "0         0.25        1.65      190      340  ...      33.35       37.9   \n",
      "1            0        1.58      215        0  ...      28.15       32.3   \n",
      "2            0         1.7      231        0  ...       26.2       30.1   \n",
      "3            0         1.7      231        0  ...       25.2       29.3   \n",
      "4            0         1.5      204        0  ...       23.7         26   \n",
      "5            0        1.42      193        0  ...       22.8       24.2   \n",
      "6            0         1.5      204        0  ...      19.05       22.8   \n",
      "7            0         1.4      174        0  ...       20.9       24.8   \n",
      "8            0        1.11      138        0  ...       22.6       24.6   \n",
      "9            0         1.1      126        0  ...         22         24   \n",
      "10        0.15           1     95.9      169  ...      18.95       21.9   \n",
      "11         0.2         1.1     99.5      221  ...       17.6       23.1   \n",
      "12           0           1      111        0  ...         16       19.2   \n",
      "13           0        0.25     27.6        0  ...        8.6       15.6   \n",
      "14           0        1.25        0        0  ...       7.82         19   \n",
      "15           0         1.5        0        0  ...         19       21.2   \n",
      "16     股 利 政 策     股 利 政 策  股 利 政 策  股 利 政 策  ...  殖 利 率 統 計  殖 利 率 統 計   \n",
      "17  股東股利 (元/股)  股東股利 (元/股)     股利總計     股利總計  ...  殖 利 率 統 計  殖 利 率 統 計   \n",
      "18        股票股利        股利合計    現金(億)   股票(千張)  ...    股價統計(元)    股價統計(元)   \n",
      "19          合計        股利合計    現金(億)   股票(千張)  ...         最低         年均   \n",
      "20           0        1.55        0        0  ...      20.65       23.1   \n",
      "21           0        1.53        0        0  ...       18.6       21.2   \n",
      "22           0        1.54        0        0  ...       18.2       21.9   \n",
      "23         0.4         0.8        0        0  ...       15.3       17.7   \n",
      "24        1.04        1.04        0        0  ...      13.95       18.7   \n",
      "25           -           -        -        -  ...       16.1         23   \n",
      "26           -           -        -        -  ...       19.4       36.7   \n",
      "27           -           -        -        -  ...       27.8       42.7   \n",
      "28           -           -        -        -  ...       34.5       52.4   \n",
      "29           -           -        -        -  ...         59       76.4   \n",
      "30           -           -        -        -  ...       58.5       76.7   \n",
      "31        2.04        27.2      NaN      NaN  ...        NaN        NaN   \n",
      "\n",
      "                                     盈餘分配率統計                               \\\n",
      "                                     盈餘分配率統計                                \n",
      "     年均殖利率(%)                         股利所屬期間   EPS(元)  盈餘分配率(%)             \n",
      "           現金         股票         合計   股利所屬期間   EPS(元)        配息        配股   \n",
      "0        3.69       0.66       4.35     2021     1.89      74.1      13.2   \n",
      "1        4.89          0       4.89     2020     1.84      85.9         0   \n",
      "2        5.65          0       5.65     2019     2.13      79.8         0   \n",
      "3        5.81          0       5.81     2018     2.07      82.1         0   \n",
      "4        5.76          0       5.76     2017     1.89      79.4         0   \n",
      "5        5.87          0       5.87     2016     1.65      86.1         0   \n",
      "6        6.57          0       6.57     2015     2.35      63.8         0   \n",
      "7        5.64          0       5.64     2014     2.43      57.6         0   \n",
      "8        4.51          0       4.51     2013     1.96      56.6         0   \n",
      "9        4.57          0       4.57     2012     1.81      60.6         0   \n",
      "10       3.88       0.68       4.56     2011     1.57      54.1      9.55   \n",
      "11        3.9       0.87       4.77     2010     1.37      65.7      14.6   \n",
      "12       5.22          0       5.22     2009      1.3      76.9         0   \n",
      "13        1.6          0        1.6     2008     0.02      1250         0   \n",
      "14       6.59          0       6.59     2007     1.55      80.6         0   \n",
      "15       7.07          0       7.07     2006     1.45       103         0   \n",
      "16  殖 利 率 統 計  殖 利 率 統 計  殖 利 率 統 計  盈餘分配率統計  盈餘分配率統計   盈餘分配率統計   盈餘分配率統計   \n",
      "17  殖 利 率 統 計  殖 利 率 統 計  殖 利 率 統 計  盈餘分配率統計  盈餘分配率統計   盈餘分配率統計   盈餘分配率統計   \n",
      "18   年均殖利率(%)   年均殖利率(%)   年均殖利率(%)   股利所屬期間   EPS(元)  盈餘分配率(%)  盈餘分配率(%)   \n",
      "19         現金         股票         合計   股利所屬期間   EPS(元)        配息        配股   \n",
      "20        6.7          0        6.7     2005     2.09      74.2         0   \n",
      "21       7.24          0       7.24     2004     2.22        69         0   \n",
      "22       7.02          0       7.02     2003     1.84      83.5         0   \n",
      "23       2.26       2.26       4.52     2002     1.06      37.7      37.7   \n",
      "24          0       5.55       5.55     2001        0         0         0   \n",
      "25          -          -          -        -        -         -         -   \n",
      "26          -          -          -        -        -         -         -   \n",
      "27          -          -          -        -        -         -         -   \n",
      "28          -          -          -        -        -         -         -   \n",
      "29          -          -          -        -        -         -         -   \n",
      "30          -          -          -        -        -         -         -   \n",
      "31        NaN        NaN        NaN       累計     34.5       NaN       NaN   \n",
      "\n",
      "              \n",
      "              \n",
      "              \n",
      "          合計  \n",
      "0       87.3  \n",
      "1       85.9  \n",
      "2       79.8  \n",
      "3       82.1  \n",
      "4       79.4  \n",
      "5       86.1  \n",
      "6       63.8  \n",
      "7       57.6  \n",
      "8       56.6  \n",
      "9       60.6  \n",
      "10      63.7  \n",
      "11      80.3  \n",
      "12      76.9  \n",
      "13      1250  \n",
      "14      80.6  \n",
      "15       103  \n",
      "16   盈餘分配率統計  \n",
      "17   盈餘分配率統計  \n",
      "18  盈餘分配率(%)  \n",
      "19        合計  \n",
      "20      74.2  \n",
      "21        69  \n",
      "22      83.5  \n",
      "23      75.5  \n",
      "24         0  \n",
      "25         -  \n",
      "26         -  \n",
      "27         -  \n",
      "28         -  \n",
      "29         -  \n",
      "30         -  \n",
      "31       NaN  \n",
      "\n",
      "[32 rows x 24 columns]\n"
     ]
    }
   ],
   "source": [
    "#現在價格\n",
    "now_price = chrome.find_element(by = By.CSS_SELECTOR, value = '#divDetail > table > tbody > tr:nth-child(3) > td:nth-child(4) > nobr > a')\n",
    "print('目前價格:'+ now_price.text)\n",
    "print('\\n')\n",
    "price_now = float(now_price.text)\n",
    "\n",
    "#填充表單_PER/PBR\n",
    "s1 = Select(chrome.find_element(by = By.CSS_SELECTOR, value = 'body > table:nth-child(8) > tbody > tr > td:nth-child(3) > table.b1.r10_0 > tbody > tr > td > table > tbody > tr > td:nth-child(1) > nobr:nth-child(1) > select'))\n",
    "s1.select_by_index(2) \n",
    "#等待運行時間\n",
    "\n",
    "time.sleep(2)\n",
    "#提取表格資料\n",
    "form = chrome.find_element(by = By.ID, value = 'txtFinDetailData')\n",
    "dfs1 = pd.read_html(form.get_attribute('innerHTML'))\n",
    "df1 = dfs1[0]\n",
    "# print(df1)\n",
    "# print('\\n')\n",
    "\n",
    "#填充表單_股利政策(發放年度)\n",
    "s1 = Select(chrome.find_element(by = By.CSS_SELECTOR, value = 'body > table:nth-child(8) > tbody > tr > td:nth-child(3) > table.b1.r10_0 > tbody > tr > td > table > tbody > tr > td:nth-child(1) > nobr:nth-child(1) > select'))\n",
    "s1.select_by_index(3) \n",
    "#等待運行時間\n",
    "time.sleep(2)\n",
    "#提取表格資料\n",
    "form = chrome.find_element(by = By.ID, value = 'txtFinDetailData')\n",
    "\n",
    "dfs2 = pd.read_html(form.get_attribute('innerHTML'))\n",
    "df2 = dfs2[0]\n",
    "df2.reset_index(drop = True, inplace = True)\n",
    "print(df2)"
   ]
  },
  {
   "cell_type": "code",
   "execution_count": 20,
   "metadata": {},
   "outputs": [
    {
     "data": {
      "text/plain": [
       "MultiIndex([(  '股 利 政 策',     '股利發放年度',   '股利發放年度', '股利發放年度'),\n",
       "            (  '股 利 政 策', '股東股利 (元/股)',     '現金股利',     '盈餘'),\n",
       "            (  '股 利 政 策', '股東股利 (元/股)',     '現金股利',     '公積'),\n",
       "            (  '股 利 政 策', '股東股利 (元/股)',     '現金股利',     '合計'),\n",
       "            (  '股 利 政 策', '股東股利 (元/股)',     '股票股利',     '盈餘'),\n",
       "            (  '股 利 政 策', '股東股利 (元/股)',     '股票股利',     '公積'),\n",
       "            (  '股 利 政 策', '股東股利 (元/股)',     '股票股利',     '合計'),\n",
       "            (  '股 利 政 策', '股東股利 (元/股)',     '股利合計',   '股利合計'),\n",
       "            (  '股 利 政 策',       '股利總計',    '現金(億)',  '現金(億)'),\n",
       "            (  '股 利 政 策',       '股利總計',   '股票(千張)', '股票(千張)'),\n",
       "            (  '股 利 政 策',     '填息花費日數',   '填息花費日數', '填息花費日數'),\n",
       "            (  '股 利 政 策',     '填權花費日數',   '填權花費日數', '填權花費日數'),\n",
       "            ('殖 利 率 統 計',  '殖 利 率 統 計',     '股價年度',   '股價年度'),\n",
       "            ('殖 利 率 統 計',  '殖 利 率 統 計',  '股價統計(元)',     '最高'),\n",
       "            ('殖 利 率 統 計',  '殖 利 率 統 計',  '股價統計(元)',     '最低'),\n",
       "            ('殖 利 率 統 計',  '殖 利 率 統 計',  '股價統計(元)',     '年均'),\n",
       "            ('殖 利 率 統 計',  '殖 利 率 統 計', '年均殖利率(%)',     '現金'),\n",
       "            ('殖 利 率 統 計',  '殖 利 率 統 計', '年均殖利率(%)',     '股票'),\n",
       "            ('殖 利 率 統 計',  '殖 利 率 統 計', '年均殖利率(%)',     '合計'),\n",
       "            (  '盈餘分配率統計',    '盈餘分配率統計',   '股利所屬期間', '股利所屬期間'),\n",
       "            (  '盈餘分配率統計',    '盈餘分配率統計',   'EPS(元)', 'EPS(元)'),\n",
       "            (  '盈餘分配率統計',    '盈餘分配率統計', '盈餘分配率(%)',     '配息'),\n",
       "            (  '盈餘分配率統計',    '盈餘分配率統計', '盈餘分配率(%)',     '配股'),\n",
       "            (  '盈餘分配率統計',    '盈餘分配率統計', '盈餘分配率(%)',     '合計')],\n",
       "           )"
      ]
     },
     "execution_count": 20,
     "metadata": {},
     "output_type": "execute_result"
    }
   ],
   "source": [
    "df2.keys()"
   ]
  },
  {
   "cell_type": "markdown",
   "metadata": {},
   "source": [
    "定義參數名稱"
   ]
  },
  {
   "cell_type": "code",
   "execution_count": 36,
   "metadata": {},
   "outputs": [],
   "source": [
    "#10年歷年股利\n",
    "dividend = df2[7][4:15] #歷年股利\n",
    "dividend.reset_index(drop = True, inplace = True)\n",
    "dividend = dividend.astype(float, errors = 'raise')\n",
    "\n",
    "#10年歷年股價平均\n",
    "price_high = df1[3][2:13]\n",
    "price_high.reset_index(drop = True, inplace = True)\n",
    "price_high =price_high.astype(float, errors = 'raise')\n",
    "price_low = df1[4][2:13]\n",
    "price_low.reset_index(drop = True, inplace = True)\n",
    "price_low = price_low.astype(float, errors = 'raise')\n",
    "price_avg = df1[6][2:13]\n",
    "price_avg.reset_index(drop = True, inplace = True)\n",
    "price_avg = price_avg.astype(float, errors = 'raise')\n",
    "\n",
    "#10年歷年EPS\n",
    "EPS = df1[9][2:13]\n",
    "EPS.reset_index(drop = True, inplace = True)\n",
    "EPS =EPS.astype(float, errors = 'raise')\n",
    "\n",
    "#10年歷年PER\n",
    "PER_high = df1[10][2:13]\n",
    "PER_high.reset_index(drop = True, inplace = True)\n",
    "PER_high =PER_high.astype(float, errors = 'raise')\n",
    "PER_low = df1[11][2:13]\n",
    "PER_low.reset_index(drop=True, inplace=True)\n",
    "PER_low =PER_low.astype(float, errors = 'raise')\n",
    "PER_avg = df1[12][2:13]\n",
    "PER_avg.reset_index(drop=True, inplace=True)\n",
    "PER_avg =PER_avg.astype(float, errors = 'raise')\n",
    "\n",
    "#10年歷年PBR\n",
    "PBR_high = df1[14][2:13]\n",
    "PBR_high.reset_index(drop=True, inplace=True)\n",
    "PBR_high =PBR_high.astype(float, errors = 'raise')\n",
    "PBR_low = df1[15][2:13]\n",
    "PBR_low.reset_index(drop=True, inplace=True)\n",
    "PBR_low =PBR_low.astype(float, errors = 'raise')\n",
    "PBR_avg = df1[16][2:13]\n",
    "PBR_avg.reset_index(drop=True, inplace=True)\n",
    "PBR_avg =PBR_avg.astype(float, errors = 'raise')\n",
    "\n",
    "#歷10年年BPS\n",
    "BPS = df1[13][2:13]\n",
    "BPS.reset_index(drop=True, inplace=True)\n",
    "BPS =BPS.astype(float, errors = 'raise')"
   ]
  },
  {
   "cell_type": "markdown",
   "metadata": {},
   "source": [
    "# 輸入年份"
   ]
  },
  {
   "cell_type": "markdown",
   "metadata": {},
   "source": [
    "輸入接下來估計法須以幾年的資料為平均 ， 年份範圍為1~10年"
   ]
  },
  {
   "cell_type": "code",
   "execution_count": 37,
   "metadata": {},
   "outputs": [
    {
     "name": "stdout",
     "output_type": "stream",
     "text": [
      "請輸入年份：5\n",
      "下列估計法以近 5 年的資料作計算\n"
     ]
    }
   ],
   "source": [
    "x= input('請輸入年份：') \n",
    "print('下列估計法以近', x,'年的資料作計算')"
   ]
  },
  {
   "cell_type": "markdown",
   "metadata": {},
   "source": [
    "# 判斷式"
   ]
  },
  {
   "cell_type": "code",
   "execution_count": 41,
   "metadata": {},
   "outputs": [],
   "source": [
    "#股利法\n",
    "dividend_avg = dividend[1:int(x)+1].mean()\n",
    "cheep1= dividend_avg *16\n",
    "reasonable1= dividend_avg * 20\n",
    "expensive1 = dividend_avg * 32\n",
    "\n",
    "#高低價法\n",
    "price_high_avg = price_high [1:int(x)+1].mean()\n",
    "price_low_avg = price_low [1:int(x)+1].mean()\n",
    "price_avg_avg = price_avg [1:int(x)+1].mean()\n",
    "cheep2= price_low_avg\n",
    "reasonable2= price_avg_avg\n",
    "expensive2 = price_high_avg\n",
    "\n",
    "#本淨比法\n",
    "BPS_now = BPS[0]\n",
    "PBR_high_avg = PBR_high [1:int(x)+1].mean()\n",
    "PBR_low_avg = PBR_low [1:int(x)+1].mean()\n",
    "PBR_avg_avg = PBR_avg [1:int(x)+1].mean()\n",
    "cheep3= PBR_low_avg * BPS[0]\n",
    "reasonable3= PBR_avg_avg * BPS[0]\n",
    "expensive3 = PBR_high_avg * BPS[0]\n",
    "\n",
    "#本益比法\n",
    "EPS_1year = EPS[1]\n",
    "EPS_xyear = EPS [1:int(x)+1].mean()\n",
    "PER_high_avg = PER_high [1:int(x)+1].mean()\n",
    "PER_low_avg = PER_low [1:int(x)+1].mean()\n",
    "PER_avg_avg = PER_avg [1:int(x)+1].mean()\n",
    "cheep4= PER_low_avg * ((EPS_1year+EPS_xyear)/2)\n",
    "reasonable4= PER_avg_avg * ((EPS_1year+EPS_xyear) /2)\n",
    "expensive4 = PER_high_avg * ((EPS_1year+EPS_xyear) /2)"
   ]
  },
  {
   "cell_type": "markdown",
   "metadata": {},
   "source": [
    "# 輸出結果"
   ]
  },
  {
   "cell_type": "code",
   "execution_count": 44,
   "metadata": {},
   "outputs": [
    {
     "name": "stdout",
     "output_type": "stream",
     "text": [
      "股票 : 2886 定價結果\n",
      "-------------------------------\n",
      "目前價位 : 32.75\n",
      "-------------------------------\n",
      "股利法\n",
      "* 便宜價 : 25.024\n",
      "* 合理價 : 31.28\n",
      "* 昂貴價 : 50.048\n",
      "-----------------------\n",
      "高低價法\n",
      "* 便宜價 : 23.389999999999997\n",
      "* 合理價 : 26.48\n",
      "* 昂貴價 : 29.339999999999996\n",
      "-----------------------\n",
      "本淨比法\n",
      "* 便宜價 : 24.824379999999998\n",
      "* 合理價 : 28.030659999999997\n",
      "* 昂貴價 : 31.04262\n",
      "-----------------------\n",
      "本益比法\n",
      "* 便宜價 : 22.911599999999996\n",
      "* 合理價 : 25.991519999999998\n",
      "* 昂貴價 : 28.9212\n"
     ]
    }
   ],
   "source": [
    "print(\"股票 : \"+ stock + \" 定價結果\")\n",
    "print(\"-------------------------------\")\n",
    "print(\"目前價位 : \" + str(price_now))\n",
    "print(\"-------------------------------\")\n",
    "print(\"股利法\")\n",
    "print(\"* 便宜價 : \" + str(cheep1))\n",
    "print(\"* 合理價 : \" + str(reasonable1))\n",
    "print(\"* 昂貴價 : \" + str(expensive1))\n",
    "print(\"-----------------------\")\n",
    "print(\"高低價法\")\n",
    "print(\"* 便宜價 : \" + str(cheep2))\n",
    "print(\"* 合理價 : \" + str(reasonable2))\n",
    "print(\"* 昂貴價 : \" + str(expensive2))\n",
    "print(\"-----------------------\")\n",
    "print(\"本淨比法\")\n",
    "print(\"* 便宜價 : \" + str(cheep3))\n",
    "print(\"* 合理價 : \" + str(reasonable3))\n",
    "print(\"* 昂貴價 : \" + str(expensive3))\n",
    "print(\"-----------------------\")\n",
    "print(\"本益比法\")\n",
    "print(\"* 便宜價 : \" + str(cheep4))\n",
    "print(\"* 合理價 : \" + str(reasonable4))\n",
    "print(\"* 昂貴價 : \" + str(expensive4))"
   ]
  },
  {
   "cell_type": "markdown",
   "metadata": {},
   "source": [
    "# 價格區間 "
   ]
  },
  {
   "cell_type": "markdown",
   "metadata": {},
   "source": [
    "長條圖視覺化"
   ]
  },
  {
   "cell_type": "code",
   "execution_count": 43,
   "metadata": {},
   "outputs": [
    {
     "data": {
      "image/png": "[encoded data removed]",
      "text/plain": [
       "<Figure size 432x288 with 1 Axes>"
      ]
     },
     "metadata": {
      "needs_background": "light"
     },
     "output_type": "display_data"
    },
    {
     "data": {
      "image/png": "[encoded data removed]",
      "text/plain": [
       "<Figure size 432x288 with 1 Axes>"
      ]
     },
     "metadata": {
      "needs_background": "light"
     },
     "output_type": "display_data"
    },
    {
     "data": {
      "image/png": "[encoded data removed]",
      "text/plain": [
       "<Figure size 432x288 with 1 Axes>"
      ]
     },
     "metadata": {
      "needs_background": "light"
     },
     "output_type": "display_data"
    },
    {
     "data": {
      "image/png": "[encoded data removed]",
      "text/plain": [
       "<Figure size 432x288 with 1 Axes>"
      ]
     },
     "metadata": {
      "needs_background": "light"
     },
     "output_type": "display_data"
    }
   ],
   "source": [
    "plt.rcParams['font.sans-serif'] = ['Microsoft JhengHei'] \n",
    "plt.rcParams['axes.unicode_minus'] = False\n",
    "\n",
    "df1 = pd.DataFrame([\n",
    "    ['cheep', cheep1],\n",
    "    ['reasonable', reasonable1],\n",
    "    ['expensive', expensive1],\n",
    "    ['price_now', price_now],\n",
    "], columns=['kinds', 'price'])\n",
    "ax = sns.barplot(x='price', y='kinds', data=df1)\n",
    "ax.set_title('股利法 Final result')\n",
    "plt.show()\n",
    "\n",
    "\n",
    "df2 = pd.DataFrame([\n",
    "    ['cheep', cheep2],\n",
    "    ['reasonable', reasonable2],\n",
    "    ['expensive', expensive2],\n",
    "    ['price_now', price_now],\n",
    "], columns=['kinds', 'price'])\n",
    "ax = sns.barplot(x='price', y='kinds', data=df2)\n",
    "ax.set_title('高低價法 Final result')\n",
    "plt.show()\n",
    "\n",
    "df3 = pd.DataFrame([\n",
    "    ['cheep', cheep3],\n",
    "    ['reasonable', reasonable3],\n",
    "    ['expensive', expensive3],\n",
    "    ['price_now', price_now],\n",
    "], columns=['kinds', 'price'])\n",
    "ax = sns.barplot(x='price', y='kinds', data=df3)\n",
    "ax.set_title('本淨比法 Final result')\n",
    "plt.show()\n",
    "\n",
    "df4 = pd.DataFrame([\n",
    "    ['cheep', cheep4],\n",
    "    ['reasonable', reasonable4],\n",
    "    ['expensive', expensive4],\n",
    "    ['price_now', price_now],\n",
    "], columns=['kinds', 'price'])\n",
    "ax = sns.barplot(x='price', y='kinds', data=df4)\n",
    "ax.set_title('本益比法 Final result')\n",
    "plt.show()\n"
   ]
  },
  {
   "cell_type": "markdown",
   "metadata": {},
   "source": [
    "區間文字顯示"
   ]
  },
  {
   "cell_type": "code",
   "execution_count": 47,
   "metadata": {},
   "outputs": [
    {
     "name": "stdout",
     "output_type": "stream",
     "text": [
      "股票 : 2886 區間結果\n",
      "-------------------------------\n",
      "目前價位 : 32.75\n",
      "-------------------------------\n",
      "股利法\n",
      "2886目前為合理偏高\n",
      "-----------------------\n",
      "高低價法\n",
      "2886目前為昂貴價\n",
      "-----------------------\n",
      "本淨比法\n",
      "2886目前為昂貴價\n",
      "-----------------------\n",
      "本益比法\n",
      "2886目前為昂貴價\n"
     ]
    }
   ],
   "source": [
    "print(\"股票 : \"+ stock + \" 區間結果\")\n",
    "print(\"-------------------------------\")\n",
    "print(\"目前價位 : \" + str(price_now))\n",
    "print(\"-------------------------------\")\n",
    "print(\"股利法\")\n",
    "if price_now >= expensive1:\n",
    "    print(stock+\"目前為昂貴價\")\n",
    "if price_now <= cheep1:  \n",
    "    print(stock+\"目前為便宜價\")\n",
    "if price_now > cheep1 and price_now < reasonable1:  \n",
    "    print(stock+\"目前為合理偏低\")\n",
    "if price_now > reasonable1 and price_now < expensive1:  \n",
    "    print(stock+\"目前為合理偏高\")\n",
    "print(\"-----------------------\")\n",
    "print(\"高低價法\")\n",
    "if price_now >= expensive2:\n",
    "    print(stock+\"目前為昂貴價\")\n",
    "if price_now <= cheep2:  \n",
    "    print(stock+\"目前為便宜價\")\n",
    "if price_now > cheep2 and price_now < reasonable2:  \n",
    "    print(stock+\"目前為合理偏低\")\n",
    "if price_now > reasonable2 and price_now < expensive2:  \n",
    "    print(stock+\"目前為合理偏高\")\n",
    "print(\"-----------------------\")\n",
    "print(\"本淨比法\")\n",
    "if price_now >= expensive3:\n",
    "    print(stock+\"目前為昂貴價\")\n",
    "if price_now <= cheep3:  \n",
    "    print(stock+\"目前為便宜價\")\n",
    "if price_now > cheep3 and price_now < reasonable3:  \n",
    "    print(stock+\"目前為合理偏低\")\n",
    "if price_now > reasonable3 and price_now < expensive3:  \n",
    "    print(stock+\"目前為合理偏高\")\n",
    "print(\"-----------------------\")\n",
    "print(\"本益比法\")\n",
    "if price_now >= expensive4:\n",
    "    print(stock+\"目前為昂貴價\")\n",
    "if price_now <= cheep4:  \n",
    "    print(stock+\"目前為便宜價\")\n",
    "if price_now > cheep4 and price_now < reasonable4:  \n",
    "    print(stock+\"目前為合理偏低\")\n",
    "if price_now > reasonable4 and price_now < expensive4:  \n",
    "    print(stock+\"目前為合理偏高\")"
   ]
  },
  {
   "cell_type": "code",
   "execution_count": null,
   "metadata": {},
   "outputs": [],
   "source": []
  }
 ],
 "metadata": {
  "kernelspec": {
   "display_name": "Python 3 (ipykernel)",
   "language": "python",
   "name": "python3"
  },
  "language_info": {
   "codemirror_mode": {
    "name": "ipython",
    "version": 3
   },
   "file_extension": ".py",
   "mimetype": "text/x-python",
   "name": "python",
   "nbconvert_exporter": "python",
   "pygments_lexer": "ipython3",
   "version": "3.8.10"
  }
 },
 "nbformat": 4,
 "nbformat_minor": 2
}
